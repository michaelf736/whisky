{
 "cells": [
  {
   "cell_type": "markdown",
   "metadata": {},
   "source": [
    "## Meta-Critic Whisky Database - Exploration and predictions"
   ]
  },
  {
   "cell_type": "markdown",
   "metadata": {},
   "source": [
    "#### Visualisation and exploration of whisky database from https://whiskyanalysis.com/index.php/database/"
   ]
  },
  {
   "cell_type": "markdown",
   "metadata": {},
   "source": [
    "#### 1. Getting started"
   ]
  },
  {
   "cell_type": "code",
   "execution_count": 1,
   "metadata": {},
   "outputs": [],
   "source": [
    "import pandas as pd\n",
    "import numpy as np\n",
    "import matplotlib.pyplot as plt"
   ]
  },
  {
   "cell_type": "code",
   "execution_count": 2,
   "metadata": {},
   "outputs": [],
   "source": [
    "%matplotlib inline"
   ]
  },
  {
   "cell_type": "markdown",
   "metadata": {},
   "source": [
    "#### 2. Read data into pandas"
   ]
  },
  {
   "cell_type": "code",
   "execution_count": 3,
   "metadata": {},
   "outputs": [],
   "source": [
    "df = pd.read_csv('whisky_analysis.csv')"
   ]
  },
  {
   "cell_type": "markdown",
   "metadata": {},
   "source": [
    "#### 3. Look at the data"
   ]
  },
  {
   "cell_type": "code",
   "execution_count": 4,
   "metadata": {},
   "outputs": [
    {
     "data": {
      "text/html": [
       "<div>\n",
       "<style scoped>\n",
       "    .dataframe tbody tr th:only-of-type {\n",
       "        vertical-align: middle;\n",
       "    }\n",
       "\n",
       "    .dataframe tbody tr th {\n",
       "        vertical-align: top;\n",
       "    }\n",
       "\n",
       "    .dataframe thead th {\n",
       "        text-align: right;\n",
       "    }\n",
       "</style>\n",
       "<table border=\"1\" class=\"dataframe\">\n",
       "  <thead>\n",
       "    <tr style=\"text-align: right;\">\n",
       "      <th></th>\n",
       "      <th>Whisky</th>\n",
       "      <th>Meta Critic</th>\n",
       "      <th>STDEV</th>\n",
       "      <th>#</th>\n",
       "      <th>Cost</th>\n",
       "      <th>Class</th>\n",
       "      <th>Super Cluster</th>\n",
       "      <th>Cluster</th>\n",
       "      <th>Country</th>\n",
       "      <th>Type</th>\n",
       "    </tr>\n",
       "  </thead>\n",
       "  <tbody>\n",
       "    <tr>\n",
       "      <th>0</th>\n",
       "      <td>Ledaig 42yo Dusgadh</td>\n",
       "      <td>9.47</td>\n",
       "      <td>0.25</td>\n",
       "      <td>3</td>\n",
       "      <td>$$$$$+</td>\n",
       "      <td>SingleMalt-like</td>\n",
       "      <td>ABC</td>\n",
       "      <td>C</td>\n",
       "      <td>Scotland</td>\n",
       "      <td>Malt</td>\n",
       "    </tr>\n",
       "    <tr>\n",
       "      <th>1</th>\n",
       "      <td>Glenfarclas 40yo</td>\n",
       "      <td>9.28</td>\n",
       "      <td>0.26</td>\n",
       "      <td>15</td>\n",
       "      <td>$$$$$+</td>\n",
       "      <td>SingleMalt-like</td>\n",
       "      <td>ABC</td>\n",
       "      <td>A</td>\n",
       "      <td>Scotland</td>\n",
       "      <td>Malt</td>\n",
       "    </tr>\n",
       "    <tr>\n",
       "      <th>2</th>\n",
       "      <td>Glengoyne 25yo</td>\n",
       "      <td>9.21</td>\n",
       "      <td>0.23</td>\n",
       "      <td>14</td>\n",
       "      <td>$$$$$+</td>\n",
       "      <td>SingleMalt-like</td>\n",
       "      <td>ABC</td>\n",
       "      <td>A</td>\n",
       "      <td>Scotland</td>\n",
       "      <td>Malt</td>\n",
       "    </tr>\n",
       "    <tr>\n",
       "      <th>3</th>\n",
       "      <td>Amrut Spectrum (Batch 1)</td>\n",
       "      <td>9.19</td>\n",
       "      <td>0.24</td>\n",
       "      <td>10</td>\n",
       "      <td>$$$$$</td>\n",
       "      <td>SingleMalt-like</td>\n",
       "      <td>ABC</td>\n",
       "      <td>C</td>\n",
       "      <td>India</td>\n",
       "      <td>Malt</td>\n",
       "    </tr>\n",
       "    <tr>\n",
       "      <th>4</th>\n",
       "      <td>Highland Park 25yo</td>\n",
       "      <td>9.18</td>\n",
       "      <td>0.17</td>\n",
       "      <td>14</td>\n",
       "      <td>$$$$$+</td>\n",
       "      <td>SingleMalt-like</td>\n",
       "      <td>ABC</td>\n",
       "      <td>C</td>\n",
       "      <td>Scotland</td>\n",
       "      <td>Malt</td>\n",
       "    </tr>\n",
       "  </tbody>\n",
       "</table>\n",
       "</div>"
      ],
      "text/plain": [
       "                     Whisky  Meta Critic  STDEV   #    Cost            Class  \\\n",
       "0       Ledaig 42yo Dusgadh         9.47   0.25   3  $$$$$+  SingleMalt-like   \n",
       "1          Glenfarclas 40yo         9.28   0.26  15  $$$$$+  SingleMalt-like   \n",
       "2            Glengoyne 25yo         9.21   0.23  14  $$$$$+  SingleMalt-like   \n",
       "3  Amrut Spectrum (Batch 1)         9.19   0.24  10   $$$$$  SingleMalt-like   \n",
       "4        Highland Park 25yo         9.18   0.17  14  $$$$$+  SingleMalt-like   \n",
       "\n",
       "  Super Cluster Cluster   Country  Type  \n",
       "0           ABC       C  Scotland  Malt  \n",
       "1           ABC       A  Scotland  Malt  \n",
       "2           ABC       A  Scotland  Malt  \n",
       "3           ABC       C     India  Malt  \n",
       "4           ABC       C  Scotland  Malt  "
      ]
     },
     "execution_count": 4,
     "metadata": {},
     "output_type": "execute_result"
    }
   ],
   "source": [
    "df.head()"
   ]
  },
  {
   "cell_type": "code",
   "execution_count": 5,
   "metadata": {},
   "outputs": [],
   "source": [
    "#get rid of the spaces!\n",
    "df.rename(columns={'Meta Critic':'Score','Super Cluster':'Super_Cluster'}, inplace=True)"
   ]
  },
  {
   "cell_type": "code",
   "execution_count": 6,
   "metadata": {},
   "outputs": [],
   "source": [
    "# replace special character $ with £ \n",
    "df.Cost = df.Cost.str.replace('$','£')"
   ]
  },
  {
   "cell_type": "code",
   "execution_count": 7,
   "metadata": {},
   "outputs": [
    {
     "data": {
      "text/html": [
       "<div>\n",
       "<style scoped>\n",
       "    .dataframe tbody tr th:only-of-type {\n",
       "        vertical-align: middle;\n",
       "    }\n",
       "\n",
       "    .dataframe tbody tr th {\n",
       "        vertical-align: top;\n",
       "    }\n",
       "\n",
       "    .dataframe thead th {\n",
       "        text-align: right;\n",
       "    }\n",
       "</style>\n",
       "<table border=\"1\" class=\"dataframe\">\n",
       "  <thead>\n",
       "    <tr style=\"text-align: right;\">\n",
       "      <th></th>\n",
       "      <th>Whisky</th>\n",
       "      <th>Score</th>\n",
       "      <th>STDEV</th>\n",
       "      <th>#</th>\n",
       "      <th>Cost</th>\n",
       "      <th>Class</th>\n",
       "      <th>Super_Cluster</th>\n",
       "      <th>Cluster</th>\n",
       "      <th>Country</th>\n",
       "      <th>Type</th>\n",
       "    </tr>\n",
       "  </thead>\n",
       "  <tbody>\n",
       "    <tr>\n",
       "      <th>0</th>\n",
       "      <td>Ledaig 42yo Dusgadh</td>\n",
       "      <td>9.47</td>\n",
       "      <td>0.25</td>\n",
       "      <td>3</td>\n",
       "      <td>£££££+</td>\n",
       "      <td>SingleMalt-like</td>\n",
       "      <td>ABC</td>\n",
       "      <td>C</td>\n",
       "      <td>Scotland</td>\n",
       "      <td>Malt</td>\n",
       "    </tr>\n",
       "    <tr>\n",
       "      <th>1</th>\n",
       "      <td>Glenfarclas 40yo</td>\n",
       "      <td>9.28</td>\n",
       "      <td>0.26</td>\n",
       "      <td>15</td>\n",
       "      <td>£££££+</td>\n",
       "      <td>SingleMalt-like</td>\n",
       "      <td>ABC</td>\n",
       "      <td>A</td>\n",
       "      <td>Scotland</td>\n",
       "      <td>Malt</td>\n",
       "    </tr>\n",
       "  </tbody>\n",
       "</table>\n",
       "</div>"
      ],
      "text/plain": [
       "                Whisky  Score  STDEV   #    Cost            Class  \\\n",
       "0  Ledaig 42yo Dusgadh   9.47   0.25   3  £££££+  SingleMalt-like   \n",
       "1     Glenfarclas 40yo   9.28   0.26  15  £££££+  SingleMalt-like   \n",
       "\n",
       "  Super_Cluster Cluster   Country  Type  \n",
       "0           ABC       C  Scotland  Malt  \n",
       "1           ABC       A  Scotland  Malt  "
      ]
     },
     "execution_count": 7,
     "metadata": {},
     "output_type": "execute_result"
    }
   ],
   "source": [
    "df.head(2)"
   ]
  },
  {
   "cell_type": "code",
   "execution_count": 8,
   "metadata": {},
   "outputs": [
    {
     "data": {
      "text/html": [
       "<div>\n",
       "<style scoped>\n",
       "    .dataframe tbody tr th:only-of-type {\n",
       "        vertical-align: middle;\n",
       "    }\n",
       "\n",
       "    .dataframe tbody tr th {\n",
       "        vertical-align: top;\n",
       "    }\n",
       "\n",
       "    .dataframe thead th {\n",
       "        text-align: right;\n",
       "    }\n",
       "</style>\n",
       "<table border=\"1\" class=\"dataframe\">\n",
       "  <thead>\n",
       "    <tr style=\"text-align: right;\">\n",
       "      <th></th>\n",
       "      <th>Score</th>\n",
       "      <th>STDEV</th>\n",
       "      <th>#</th>\n",
       "    </tr>\n",
       "  </thead>\n",
       "  <tbody>\n",
       "    <tr>\n",
       "      <th>count</th>\n",
       "      <td>1454.000000</td>\n",
       "      <td>1454.000000</td>\n",
       "      <td>1454.000000</td>\n",
       "    </tr>\n",
       "    <tr>\n",
       "      <th>mean</th>\n",
       "      <td>8.540199</td>\n",
       "      <td>0.372999</td>\n",
       "      <td>10.127235</td>\n",
       "    </tr>\n",
       "    <tr>\n",
       "      <th>std</th>\n",
       "      <td>0.390641</td>\n",
       "      <td>0.182573</td>\n",
       "      <td>5.671888</td>\n",
       "    </tr>\n",
       "    <tr>\n",
       "      <th>min</th>\n",
       "      <td>6.470000</td>\n",
       "      <td>0.020000</td>\n",
       "      <td>3.000000</td>\n",
       "    </tr>\n",
       "    <tr>\n",
       "      <th>25%</th>\n",
       "      <td>8.320000</td>\n",
       "      <td>0.260000</td>\n",
       "      <td>5.000000</td>\n",
       "    </tr>\n",
       "    <tr>\n",
       "      <th>50%</th>\n",
       "      <td>8.590000</td>\n",
       "      <td>0.340000</td>\n",
       "      <td>9.000000</td>\n",
       "    </tr>\n",
       "    <tr>\n",
       "      <th>75%</th>\n",
       "      <td>8.810000</td>\n",
       "      <td>0.450000</td>\n",
       "      <td>14.000000</td>\n",
       "    </tr>\n",
       "    <tr>\n",
       "      <th>max</th>\n",
       "      <td>9.470000</td>\n",
       "      <td>1.870000</td>\n",
       "      <td>28.000000</td>\n",
       "    </tr>\n",
       "  </tbody>\n",
       "</table>\n",
       "</div>"
      ],
      "text/plain": [
       "             Score        STDEV            #\n",
       "count  1454.000000  1454.000000  1454.000000\n",
       "mean      8.540199     0.372999    10.127235\n",
       "std       0.390641     0.182573     5.671888\n",
       "min       6.470000     0.020000     3.000000\n",
       "25%       8.320000     0.260000     5.000000\n",
       "50%       8.590000     0.340000     9.000000\n",
       "75%       8.810000     0.450000    14.000000\n",
       "max       9.470000     1.870000    28.000000"
      ]
     },
     "execution_count": 8,
     "metadata": {},
     "output_type": "execute_result"
    }
   ],
   "source": [
    "df.describe()"
   ]
  },
  {
   "cell_type": "code",
   "execution_count": 9,
   "metadata": {},
   "outputs": [
    {
     "data": {
      "text/html": [
       "<div>\n",
       "<style scoped>\n",
       "    .dataframe tbody tr th:only-of-type {\n",
       "        vertical-align: middle;\n",
       "    }\n",
       "\n",
       "    .dataframe tbody tr th {\n",
       "        vertical-align: top;\n",
       "    }\n",
       "\n",
       "    .dataframe thead th {\n",
       "        text-align: right;\n",
       "    }\n",
       "</style>\n",
       "<table border=\"1\" class=\"dataframe\">\n",
       "  <thead>\n",
       "    <tr style=\"text-align: right;\">\n",
       "      <th></th>\n",
       "      <th>Whisky</th>\n",
       "      <th>Score</th>\n",
       "      <th>STDEV</th>\n",
       "      <th>#</th>\n",
       "      <th>Cost</th>\n",
       "      <th>Class</th>\n",
       "      <th>Super_Cluster</th>\n",
       "      <th>Cluster</th>\n",
       "      <th>Country</th>\n",
       "      <th>Type</th>\n",
       "    </tr>\n",
       "  </thead>\n",
       "  <tbody>\n",
       "    <tr>\n",
       "      <th>1449</th>\n",
       "      <td>Jim Beam White Label</td>\n",
       "      <td>7.66</td>\n",
       "      <td>0.48</td>\n",
       "      <td>19</td>\n",
       "      <td>£</td>\n",
       "      <td>Bourbon-like</td>\n",
       "      <td>NaN</td>\n",
       "      <td>R2</td>\n",
       "      <td>USA</td>\n",
       "      <td>Bourbon</td>\n",
       "    </tr>\n",
       "    <tr>\n",
       "      <th>1450</th>\n",
       "      <td>Rebel Yell Kentucky Bourbon</td>\n",
       "      <td>7.46</td>\n",
       "      <td>0.54</td>\n",
       "      <td>12</td>\n",
       "      <td>£</td>\n",
       "      <td>Bourbon-like</td>\n",
       "      <td>NaN</td>\n",
       "      <td>R0</td>\n",
       "      <td>USA</td>\n",
       "      <td>Bourbon</td>\n",
       "    </tr>\n",
       "    <tr>\n",
       "      <th>1451</th>\n",
       "      <td>Jim Beam Red Stag (Black Cherry)</td>\n",
       "      <td>7.43</td>\n",
       "      <td>0.95</td>\n",
       "      <td>4</td>\n",
       "      <td>£</td>\n",
       "      <td>Bourbon-like</td>\n",
       "      <td>NaN</td>\n",
       "      <td>NaN</td>\n",
       "      <td>USA</td>\n",
       "      <td>Flavoured</td>\n",
       "    </tr>\n",
       "    <tr>\n",
       "      <th>1452</th>\n",
       "      <td>Virginia Black</td>\n",
       "      <td>7.32</td>\n",
       "      <td>1.08</td>\n",
       "      <td>6</td>\n",
       "      <td>££</td>\n",
       "      <td>Bourbon-like</td>\n",
       "      <td>NaN</td>\n",
       "      <td>R2</td>\n",
       "      <td>USA</td>\n",
       "      <td>Bourbon</td>\n",
       "    </tr>\n",
       "    <tr>\n",
       "      <th>1453</th>\n",
       "      <td>Laphroaig Cairdeas 2018 Fino</td>\n",
       "      <td>9.00</td>\n",
       "      <td>0.13</td>\n",
       "      <td>4</td>\n",
       "      <td>NaN</td>\n",
       "      <td>NaN</td>\n",
       "      <td>NaN</td>\n",
       "      <td>NaN</td>\n",
       "      <td>NaN</td>\n",
       "      <td>NaN</td>\n",
       "    </tr>\n",
       "  </tbody>\n",
       "</table>\n",
       "</div>"
      ],
      "text/plain": [
       "                                Whisky  Score  STDEV   # Cost         Class  \\\n",
       "1449              Jim Beam White Label   7.66   0.48  19    £  Bourbon-like   \n",
       "1450       Rebel Yell Kentucky Bourbon   7.46   0.54  12    £  Bourbon-like   \n",
       "1451  Jim Beam Red Stag (Black Cherry)   7.43   0.95   4    £  Bourbon-like   \n",
       "1452                    Virginia Black   7.32   1.08   6   ££  Bourbon-like   \n",
       "1453      Laphroaig Cairdeas 2018 Fino   9.00   0.13   4  NaN           NaN   \n",
       "\n",
       "     Super_Cluster Cluster Country       Type  \n",
       "1449           NaN      R2     USA    Bourbon  \n",
       "1450           NaN      R0     USA    Bourbon  \n",
       "1451           NaN     NaN     USA  Flavoured  \n",
       "1452           NaN      R2     USA    Bourbon  \n",
       "1453           NaN     NaN     NaN        NaN  "
      ]
     },
     "execution_count": 9,
     "metadata": {},
     "output_type": "execute_result"
    }
   ],
   "source": [
    "df.tail()"
   ]
  },
  {
   "cell_type": "code",
   "execution_count": 10,
   "metadata": {},
   "outputs": [
    {
     "data": {
      "text/plain": [
       "(1454, 10)"
      ]
     },
     "execution_count": 10,
     "metadata": {},
     "output_type": "execute_result"
    }
   ],
   "source": [
    "df.shape"
   ]
  },
  {
   "cell_type": "markdown",
   "metadata": {},
   "source": [
    "##### Distributions of different series"
   ]
  },
  {
   "cell_type": "code",
   "execution_count": 11,
   "metadata": {},
   "outputs": [
    {
     "data": {
      "text/plain": [
       "Text(0,0.5,'Frequency')"
      ]
     },
     "execution_count": 11,
     "metadata": {},
     "output_type": "execute_result"
    },
    {
     "data": {
      "image/png": "[encoded data removed]",
      "text/plain": [
       "<Figure size 432x288 with 1 Axes>"
      ]
     },
     "metadata": {},
     "output_type": "display_data"
    }
   ],
   "source": [
    "ax = df.Type.value_counts(dropna = False).plot.bar(title = 'Whisky Types')\n",
    "ax.set_xlabel(\"Type\")\n",
    "ax.set_ylabel(\"Frequency\")"
   ]
  },
  {
   "cell_type": "code",
   "execution_count": 12,
   "metadata": {},
   "outputs": [
    {
     "data": {
      "text/plain": [
       "<matplotlib.axes._subplots.AxesSubplot at 0x1de0160bac8>"
      ]
     },
     "execution_count": 12,
     "metadata": {},
     "output_type": "execute_result"
    },
    {
     "data": {
      "image/png": "[encoded data removed]",
      "text/plain": [
       "<Figure size 432x288 with 1 Axes>"
      ]
     },
     "metadata": {},
     "output_type": "display_data"
    }
   ],
   "source": [
    "df.Country.value_counts(dropna = False).plot.bar(title = 'Coutry')"
   ]
  },
  {
   "cell_type": "code",
   "execution_count": 13,
   "metadata": {},
   "outputs": [
    {
     "data": {
      "text/plain": [
       "<matplotlib.axes._subplots.AxesSubplot at 0x1de016d54e0>"
      ]
     },
     "execution_count": 13,
     "metadata": {},
     "output_type": "execute_result"
    },
    {
     "data": {
      "image/png": "[encoded data removed]",
      "text/plain": [
       "<Figure size 432x288 with 1 Axes>"
      ]
     },
     "metadata": {},
     "output_type": "display_data"
    }
   ],
   "source": [
    "df.Cluster.value_counts(dropna = False).plot.bar(title = 'Cluster')"
   ]
  },
  {
   "cell_type": "code",
   "execution_count": 14,
   "metadata": {},
   "outputs": [
    {
     "data": {
      "text/plain": [
       "<matplotlib.axes._subplots.AxesSubplot at 0x1de014d6198>"
      ]
     },
     "execution_count": 14,
     "metadata": {},
     "output_type": "execute_result"
    },
    {
     "data": {
      "image/png": "[encoded data removed]",
      "text/plain": [
       "<Figure size 432x288 with 1 Axes>"
      ]
     },
     "metadata": {},
     "output_type": "display_data"
    }
   ],
   "source": [
    "df['Super_Cluster'].value_counts(dropna = False).plot.bar(title = 'Super Cluster')"
   ]
  },
  {
   "cell_type": "code",
   "execution_count": 15,
   "metadata": {},
   "outputs": [
    {
     "data": {
      "text/plain": [
       "<matplotlib.axes._subplots.AxesSubplot at 0x1de019d0b70>"
      ]
     },
     "execution_count": 15,
     "metadata": {},
     "output_type": "execute_result"
    },
    {
     "data": {
      "image/png": "[encoded data removed]",
      "text/plain": [
       "<Figure size 432x288 with 1 Axes>"
      ]
     },
     "metadata": {},
     "output_type": "display_data"
    }
   ],
   "source": [
    "df.Class.value_counts(dropna = False).plot.bar(title = 'Class')"
   ]
  },
  {
   "cell_type": "code",
   "execution_count": 16,
   "metadata": {},
   "outputs": [
    {
     "data": {
      "text/plain": [
       "££££      467\n",
       "£££££     293\n",
       "£££       281\n",
       "££        179\n",
       "£££££+    145\n",
       "£          87\n",
       "NaN         2\n",
       "Name: Cost, dtype: int64"
      ]
     },
     "execution_count": 16,
     "metadata": {},
     "output_type": "execute_result"
    }
   ],
   "source": [
    "df.Cost.value_counts(dropna = False)"
   ]
  },
  {
   "cell_type": "code",
   "execution_count": 17,
   "metadata": {},
   "outputs": [
    {
     "data": {
      "text/plain": [
       "<matplotlib.axes._subplots.AxesSubplot at 0x1de01a01860>"
      ]
     },
     "execution_count": 17,
     "metadata": {},
     "output_type": "execute_result"
    },
    {
     "data": {
      "image/png": "[encoded data removed]",
      "text/plain": [
       "<Figure size 432x288 with 1 Axes>"
      ]
     },
     "metadata": {},
     "output_type": "display_data"
    }
   ],
   "source": [
    "df.Cost.value_counts(dropna = False).plot(kind = 'bar', title = 'Cost')"
   ]
  },
  {
   "cell_type": "markdown",
   "metadata": {},
   "source": [
    "##### Histograms of Meta Critic scores"
   ]
  },
  {
   "cell_type": "code",
   "execution_count": 18,
   "metadata": {},
   "outputs": [
    {
     "data": {
      "text/plain": [
       "<matplotlib.axes._subplots.AxesSubplot at 0x1de01a88b38>"
      ]
     },
     "execution_count": 18,
     "metadata": {},
     "output_type": "execute_result"
    },
    {
     "data": {
      "image/png": "[encoded data removed]",
      "text/plain": [
       "<Figure size 432x288 with 1 Axes>"
      ]
     },
     "metadata": {},
     "output_type": "display_data"
    }
   ],
   "source": [
    "# for whole population\n",
    "df.Score.hist()"
   ]
  },
  {
   "cell_type": "markdown",
   "metadata": {},
   "source": [
    "##### Meta Critic distributions for differnet countries"
   ]
  },
  {
   "cell_type": "code",
   "execution_count": 19,
   "metadata": {},
   "outputs": [
    {
     "data": {
      "text/plain": [
       "<matplotlib.axes._subplots.AxesSubplot at 0x1de01b5cda0>"
      ]
     },
     "execution_count": 19,
     "metadata": {},
     "output_type": "execute_result"
    },
    {
     "data": {
      "image/png": "[encoded data removed]",
      "text/plain": [
       "<Figure size 432x288 with 1 Axes>"
      ]
     },
     "metadata": {},
     "output_type": "display_data"
    }
   ],
   "source": [
    "#Scotland\n",
    "df.Score[df.Country == 'Scotland'].hist()"
   ]
  },
  {
   "cell_type": "code",
   "execution_count": 20,
   "metadata": {},
   "outputs": [
    {
     "data": {
      "text/plain": [
       "<matplotlib.axes._subplots.AxesSubplot at 0x1de02baa438>"
      ]
     },
     "execution_count": 20,
     "metadata": {},
     "output_type": "execute_result"
    },
    {
     "data": {
      "image/png": "[encoded data removed]",
      "text/plain": [
       "<Figure size 432x288 with 1 Axes>"
      ]
     },
     "metadata": {},
     "output_type": "display_data"
    }
   ],
   "source": [
    "#USA\n",
    "df.Score[df.Country == 'USA'].hist()"
   ]
  },
  {
   "cell_type": "markdown",
   "metadata": {},
   "source": [
    "##### Mean Meta Critic Scores by different series"
   ]
  },
  {
   "cell_type": "code",
   "execution_count": 21,
   "metadata": {},
   "outputs": [],
   "source": [
    "# Change figsize\n",
    "fig_size = plt.rcParams[\"figure.figsize\"]\n",
    "#print (\"Current size:\", fig_size)\n",
    "fig_size[0] = 6\n",
    "fig_size[1] = 4"
   ]
  },
  {
   "cell_type": "code",
   "execution_count": 22,
   "metadata": {},
   "outputs": [
    {
     "data": {
      "image/png": "[encoded data removed]",
      "text/plain": [
       "<Figure size 1440x720 with 6 Axes>"
      ]
     },
     "metadata": {},
     "output_type": "display_data"
    }
   ],
   "source": [
    "cols = ['Country','Type','Cluster','Super_Cluster','Class','Cost']\n",
    "for i, value in enumerate(cols):\n",
    "    plt.tight_layout()\n",
    "    plt.subplot(2,3, i+1)\n",
    "    df.groupby(value)['Score'].mean().plot.bar(sharey = 'row', figsize = (20,10)).set_ylabel('Mean Score')"
   ]
  },
  {
   "cell_type": "markdown",
   "metadata": {},
   "source": [
    "#### Comments so far:\n",
    "- 1453 Whiskies!\n",
    "- Scottish malts significantly the most common\n",
    "- Single malts by far the most common type\n",
    "\n",
    "##### What indicators are there about predicting the score?\n",
    "- French and Swiss whiskies have a lower mean!\n",
    "- Flavoured whiskies have the lowest mean score\n",
    "- Score increases with price, but not by much!"
   ]
  },
  {
   "cell_type": "markdown",
   "metadata": {},
   "source": [
    "#### 4. Data preprocessing to run a linear regression model "
   ]
  },
  {
   "cell_type": "code",
   "execution_count": 23,
   "metadata": {},
   "outputs": [],
   "source": [
    "# Drop the 'Whisky', 'STDEV' and # columns\n",
    "df = df.drop(['Whisky', 'STDEV', '#'], axis=1)"
   ]
  },
  {
   "cell_type": "code",
   "execution_count": 24,
   "metadata": {},
   "outputs": [
    {
     "data": {
      "text/html": [
       "<div>\n",
       "<style scoped>\n",
       "    .dataframe tbody tr th:only-of-type {\n",
       "        vertical-align: middle;\n",
       "    }\n",
       "\n",
       "    .dataframe tbody tr th {\n",
       "        vertical-align: top;\n",
       "    }\n",
       "\n",
       "    .dataframe thead th {\n",
       "        text-align: right;\n",
       "    }\n",
       "</style>\n",
       "<table border=\"1\" class=\"dataframe\">\n",
       "  <thead>\n",
       "    <tr style=\"text-align: right;\">\n",
       "      <th></th>\n",
       "      <th>Score</th>\n",
       "      <th>Cost</th>\n",
       "      <th>Class</th>\n",
       "      <th>Super_Cluster</th>\n",
       "      <th>Cluster</th>\n",
       "      <th>Country</th>\n",
       "      <th>Type</th>\n",
       "    </tr>\n",
       "  </thead>\n",
       "  <tbody>\n",
       "    <tr>\n",
       "      <th>0</th>\n",
       "      <td>9.47</td>\n",
       "      <td>£££££+</td>\n",
       "      <td>SingleMalt-like</td>\n",
       "      <td>ABC</td>\n",
       "      <td>C</td>\n",
       "      <td>Scotland</td>\n",
       "      <td>Malt</td>\n",
       "    </tr>\n",
       "    <tr>\n",
       "      <th>1</th>\n",
       "      <td>9.28</td>\n",
       "      <td>£££££+</td>\n",
       "      <td>SingleMalt-like</td>\n",
       "      <td>ABC</td>\n",
       "      <td>A</td>\n",
       "      <td>Scotland</td>\n",
       "      <td>Malt</td>\n",
       "    </tr>\n",
       "    <tr>\n",
       "      <th>2</th>\n",
       "      <td>9.21</td>\n",
       "      <td>£££££+</td>\n",
       "      <td>SingleMalt-like</td>\n",
       "      <td>ABC</td>\n",
       "      <td>A</td>\n",
       "      <td>Scotland</td>\n",
       "      <td>Malt</td>\n",
       "    </tr>\n",
       "    <tr>\n",
       "      <th>3</th>\n",
       "      <td>9.19</td>\n",
       "      <td>£££££</td>\n",
       "      <td>SingleMalt-like</td>\n",
       "      <td>ABC</td>\n",
       "      <td>C</td>\n",
       "      <td>India</td>\n",
       "      <td>Malt</td>\n",
       "    </tr>\n",
       "    <tr>\n",
       "      <th>4</th>\n",
       "      <td>9.18</td>\n",
       "      <td>£££££+</td>\n",
       "      <td>SingleMalt-like</td>\n",
       "      <td>ABC</td>\n",
       "      <td>C</td>\n",
       "      <td>Scotland</td>\n",
       "      <td>Malt</td>\n",
       "    </tr>\n",
       "  </tbody>\n",
       "</table>\n",
       "</div>"
      ],
      "text/plain": [
       "   Score    Cost            Class Super_Cluster Cluster   Country  Type\n",
       "0   9.47  £££££+  SingleMalt-like           ABC       C  Scotland  Malt\n",
       "1   9.28  £££££+  SingleMalt-like           ABC       A  Scotland  Malt\n",
       "2   9.21  £££££+  SingleMalt-like           ABC       A  Scotland  Malt\n",
       "3   9.19   £££££  SingleMalt-like           ABC       C     India  Malt\n",
       "4   9.18  £££££+  SingleMalt-like           ABC       C  Scotland  Malt"
      ]
     },
     "execution_count": 24,
     "metadata": {},
     "output_type": "execute_result"
    }
   ],
   "source": [
    "df.head()"
   ]
  },
  {
   "cell_type": "code",
   "execution_count": 25,
   "metadata": {},
   "outputs": [],
   "source": [
    "#Use one hot encoding to vectorise the categorical variables - we will use pandas' get_dummies \n",
    "df1 = pd.get_dummies(df, columns = ['Cost', 'Class', 'Country', 'Cluster', 'Super_Cluster', 'Type'])"
   ]
  },
  {
   "cell_type": "code",
   "execution_count": 26,
   "metadata": {},
   "outputs": [
    {
     "data": {
      "text/html": [
       "<div>\n",
       "<style scoped>\n",
       "    .dataframe tbody tr th:only-of-type {\n",
       "        vertical-align: middle;\n",
       "    }\n",
       "\n",
       "    .dataframe tbody tr th {\n",
       "        vertical-align: top;\n",
       "    }\n",
       "\n",
       "    .dataframe thead th {\n",
       "        text-align: right;\n",
       "    }\n",
       "</style>\n",
       "<table border=\"1\" class=\"dataframe\">\n",
       "  <thead>\n",
       "    <tr style=\"text-align: right;\">\n",
       "      <th></th>\n",
       "      <th>Score</th>\n",
       "      <th>Cost_£</th>\n",
       "      <th>Cost_££</th>\n",
       "      <th>Cost_£££</th>\n",
       "      <th>Cost_££££</th>\n",
       "      <th>Cost_£££££</th>\n",
       "      <th>Cost_£££££+</th>\n",
       "      <th>Class_Bourbon-like</th>\n",
       "      <th>Class_Rye-like</th>\n",
       "      <th>Class_Scotch-like</th>\n",
       "      <th>...</th>\n",
       "      <th>Super_Cluster_J</th>\n",
       "      <th>Type_Barley</th>\n",
       "      <th>Type_Blend</th>\n",
       "      <th>Type_Bourbon</th>\n",
       "      <th>Type_Flavoured</th>\n",
       "      <th>Type_Grain</th>\n",
       "      <th>Type_Malt</th>\n",
       "      <th>Type_Rye</th>\n",
       "      <th>Type_Wheat</th>\n",
       "      <th>Type_Whiskey</th>\n",
       "    </tr>\n",
       "  </thead>\n",
       "  <tbody>\n",
       "    <tr>\n",
       "      <th>0</th>\n",
       "      <td>9.47</td>\n",
       "      <td>0</td>\n",
       "      <td>0</td>\n",
       "      <td>0</td>\n",
       "      <td>0</td>\n",
       "      <td>0</td>\n",
       "      <td>1</td>\n",
       "      <td>0</td>\n",
       "      <td>0</td>\n",
       "      <td>0</td>\n",
       "      <td>...</td>\n",
       "      <td>0</td>\n",
       "      <td>0</td>\n",
       "      <td>0</td>\n",
       "      <td>0</td>\n",
       "      <td>0</td>\n",
       "      <td>0</td>\n",
       "      <td>1</td>\n",
       "      <td>0</td>\n",
       "      <td>0</td>\n",
       "      <td>0</td>\n",
       "    </tr>\n",
       "    <tr>\n",
       "      <th>1</th>\n",
       "      <td>9.28</td>\n",
       "      <td>0</td>\n",
       "      <td>0</td>\n",
       "      <td>0</td>\n",
       "      <td>0</td>\n",
       "      <td>0</td>\n",
       "      <td>1</td>\n",
       "      <td>0</td>\n",
       "      <td>0</td>\n",
       "      <td>0</td>\n",
       "      <td>...</td>\n",
       "      <td>0</td>\n",
       "      <td>0</td>\n",
       "      <td>0</td>\n",
       "      <td>0</td>\n",
       "      <td>0</td>\n",
       "      <td>0</td>\n",
       "      <td>1</td>\n",
       "      <td>0</td>\n",
       "      <td>0</td>\n",
       "      <td>0</td>\n",
       "    </tr>\n",
       "    <tr>\n",
       "      <th>2</th>\n",
       "      <td>9.21</td>\n",
       "      <td>0</td>\n",
       "      <td>0</td>\n",
       "      <td>0</td>\n",
       "      <td>0</td>\n",
       "      <td>0</td>\n",
       "      <td>1</td>\n",
       "      <td>0</td>\n",
       "      <td>0</td>\n",
       "      <td>0</td>\n",
       "      <td>...</td>\n",
       "      <td>0</td>\n",
       "      <td>0</td>\n",
       "      <td>0</td>\n",
       "      <td>0</td>\n",
       "      <td>0</td>\n",
       "      <td>0</td>\n",
       "      <td>1</td>\n",
       "      <td>0</td>\n",
       "      <td>0</td>\n",
       "      <td>0</td>\n",
       "    </tr>\n",
       "    <tr>\n",
       "      <th>3</th>\n",
       "      <td>9.19</td>\n",
       "      <td>0</td>\n",
       "      <td>0</td>\n",
       "      <td>0</td>\n",
       "      <td>0</td>\n",
       "      <td>1</td>\n",
       "      <td>0</td>\n",
       "      <td>0</td>\n",
       "      <td>0</td>\n",
       "      <td>0</td>\n",
       "      <td>...</td>\n",
       "      <td>0</td>\n",
       "      <td>0</td>\n",
       "      <td>0</td>\n",
       "      <td>0</td>\n",
       "      <td>0</td>\n",
       "      <td>0</td>\n",
       "      <td>1</td>\n",
       "      <td>0</td>\n",
       "      <td>0</td>\n",
       "      <td>0</td>\n",
       "    </tr>\n",
       "    <tr>\n",
       "      <th>4</th>\n",
       "      <td>9.18</td>\n",
       "      <td>0</td>\n",
       "      <td>0</td>\n",
       "      <td>0</td>\n",
       "      <td>0</td>\n",
       "      <td>0</td>\n",
       "      <td>1</td>\n",
       "      <td>0</td>\n",
       "      <td>0</td>\n",
       "      <td>0</td>\n",
       "      <td>...</td>\n",
       "      <td>0</td>\n",
       "      <td>0</td>\n",
       "      <td>0</td>\n",
       "      <td>0</td>\n",
       "      <td>0</td>\n",
       "      <td>0</td>\n",
       "      <td>1</td>\n",
       "      <td>0</td>\n",
       "      <td>0</td>\n",
       "      <td>0</td>\n",
       "    </tr>\n",
       "  </tbody>\n",
       "</table>\n",
       "<p>5 rows × 57 columns</p>\n",
       "</div>"
      ],
      "text/plain": [
       "   Score  Cost_£  Cost_££  Cost_£££  Cost_££££  Cost_£££££  Cost_£££££+  \\\n",
       "0   9.47       0        0         0          0           0            1   \n",
       "1   9.28       0        0         0          0           0            1   \n",
       "2   9.21       0        0         0          0           0            1   \n",
       "3   9.19       0        0         0          0           1            0   \n",
       "4   9.18       0        0         0          0           0            1   \n",
       "\n",
       "   Class_Bourbon-like  Class_Rye-like  Class_Scotch-like      ...       \\\n",
       "0                   0               0                  0      ...        \n",
       "1                   0               0                  0      ...        \n",
       "2                   0               0                  0      ...        \n",
       "3                   0               0                  0      ...        \n",
       "4                   0               0                  0      ...        \n",
       "\n",
       "   Super_Cluster_J  Type_Barley  Type_Blend  Type_Bourbon  Type_Flavoured  \\\n",
       "0                0            0           0             0               0   \n",
       "1                0            0           0             0               0   \n",
       "2                0            0           0             0               0   \n",
       "3                0            0           0             0               0   \n",
       "4                0            0           0             0               0   \n",
       "\n",
       "   Type_Grain  Type_Malt  Type_Rye  Type_Wheat  Type_Whiskey  \n",
       "0           0          1         0           0             0  \n",
       "1           0          1         0           0             0  \n",
       "2           0          1         0           0             0  \n",
       "3           0          1         0           0             0  \n",
       "4           0          1         0           0             0  \n",
       "\n",
       "[5 rows x 57 columns]"
      ]
     },
     "execution_count": 26,
     "metadata": {},
     "output_type": "execute_result"
    }
   ],
   "source": [
    "df1.head()"
   ]
  },
  {
   "cell_type": "code",
   "execution_count": 27,
   "metadata": {},
   "outputs": [],
   "source": [
    "y = df1.pop('Score')"
   ]
  },
  {
   "cell_type": "code",
   "execution_count": 28,
   "metadata": {},
   "outputs": [
    {
     "data": {
      "text/plain": [
       "(1454,)"
      ]
     },
     "execution_count": 28,
     "metadata": {},
     "output_type": "execute_result"
    }
   ],
   "source": [
    "y.shape"
   ]
  },
  {
   "cell_type": "code",
   "execution_count": 29,
   "metadata": {},
   "outputs": [],
   "source": [
    "X = df1"
   ]
  },
  {
   "cell_type": "code",
   "execution_count": 30,
   "metadata": {},
   "outputs": [
    {
     "data": {
      "text/plain": [
       "(1454, 56)"
      ]
     },
     "execution_count": 30,
     "metadata": {},
     "output_type": "execute_result"
    }
   ],
   "source": [
    "X.shape"
   ]
  },
  {
   "cell_type": "markdown",
   "metadata": {},
   "source": [
    "#### 5. Fit models and make predictions"
   ]
  },
  {
   "cell_type": "code",
   "execution_count": 31,
   "metadata": {},
   "outputs": [],
   "source": [
    "from sklearn.model_selection import train_test_split"
   ]
  },
  {
   "cell_type": "code",
   "execution_count": 32,
   "metadata": {},
   "outputs": [],
   "source": [
    "X_train, X_test, y_train, y_test = train_test_split(X, y, test_size = 0.2) "
   ]
  },
  {
   "cell_type": "code",
   "execution_count": 162,
   "metadata": {},
   "outputs": [],
   "source": [
    "# the next 3 cells are commented out. An initial trial with the LinearRegression model produced a very large variance and so this was abandoned in favour of the Ridge model\n",
    "#from sklearn.linear_model import LinearRegression"
   ]
  },
  {
   "cell_type": "code",
   "execution_count": 163,
   "metadata": {},
   "outputs": [],
   "source": [
    "#reg = LinearRegression().fit(X_train, y_train)"
   ]
  },
  {
   "cell_type": "code",
   "execution_count": 164,
   "metadata": {},
   "outputs": [],
   "source": [
    "#preds = reg.predict(X_test)"
   ]
  },
  {
   "cell_type": "code",
   "execution_count": null,
   "metadata": {},
   "outputs": [],
   "source": [
    "# use a linear regression model that utilises regularisation\n",
    "from sklearn.linear_model import Ridge"
   ]
  },
  {
   "cell_type": "code",
   "execution_count": null,
   "metadata": {},
   "outputs": [],
   "source": [
    "# basic trial and error suggests regularization coefficient, alpha = 5.3 is optimal. A more thorough investigation could yield improved performance.\n",
    "rid = Ridge(alpha = 5.3).fit(X_train, y_train)"
   ]
  },
  {
   "cell_type": "code",
   "execution_count": null,
   "metadata": {},
   "outputs": [],
   "source": [
    "preds = rid.predict(X_test)"
   ]
  },
  {
   "cell_type": "code",
   "execution_count": 165,
   "metadata": {},
   "outputs": [
    {
     "data": {
      "text/plain": [
       "array([8.55653287, 8.22759733, 8.7062598 , 8.34773911, 8.19502987,\n",
       "       8.7062598 , 8.7811306 , 8.25307166, 8.73792726, 8.24950891,\n",
       "       8.33747416, 8.67279905, 8.60367012, 8.34103691, 8.24950891,\n",
       "       8.84051694, 8.52416815, 8.73792726, 8.47488645, 8.44580571,\n",
       "       8.90328791, 8.60723288, 8.8381597 , 8.73792726, 8.64687347,\n",
       "       8.53854191, 8.5848338 , 8.67279905, 8.63286533, 8.5848338 ,\n",
       "       8.82399865, 8.60367012, 8.16493469, 8.64687347, 8.51871169,\n",
       "       8.00655359, 8.33596452, 8.67279905, 8.72523591, 8.00655359,\n",
       "       8.78506617, 9.01237874, 8.7062598 , 8.16287887, 8.53854191,\n",
       "       8.55653287, 8.7704923 , 8.8381597 , 8.67279905, 8.84051694,\n",
       "       8.63452389, 8.71276095, 8.64687347, 8.57084472, 8.8488672 ,\n",
       "       8.48867376, 8.7111875 , 8.36083307, 8.31764393, 8.51704008,\n",
       "       8.72523591, 8.71276095, 8.69079   , 8.7811306 , 8.34773911,\n",
       "       8.85949304, 7.81542027, 8.68974151, 8.7811306 , 8.44580571,\n",
       "       8.24950891, 8.37586261, 8.7062598 , 8.22759733, 8.57084472,\n",
       "       8.60367012, 8.33596452, 8.16849744, 8.84051694, 8.53854191,\n",
       "       8.35546511, 8.90328791, 8.51871169, 8.7111875 , 8.50217095,\n",
       "       8.64687347, 8.00655359, 7.81542027, 8.57084472, 8.50519205,\n",
       "       8.683064  , 8.49860819, 8.74709932, 8.73792726, 8.00655359,\n",
       "       8.85949304, 8.36083307, 7.81542027, 8.80152033, 8.44580571,\n",
       "       8.45057666, 8.77191247, 8.55653287, 8.55653287, 8.1795658 ,\n",
       "       8.58616901, 8.7062598 , 8.85949304, 8.33747416, 8.85615066,\n",
       "       8.7062598 , 8.64687347, 8.7062598 , 8.7062598 , 8.18476492,\n",
       "       8.78506617, 8.65129722, 8.31764393, 8.53854191, 8.29309647,\n",
       "       8.64687347, 8.66798415, 8.64687347, 8.00655359, 8.60285594,\n",
       "       8.41625312, 7.81542027, 8.58616901, 8.31764393, 8.58616901,\n",
       "       8.94649126, 8.51354231, 8.74838637, 8.43160465, 8.19502987,\n",
       "       9.01422786, 8.77191247, 8.90616961, 8.45191187, 8.72523591,\n",
       "       8.68974151, 8.24950891, 8.4685988 , 8.7062598 , 8.73792726,\n",
       "       8.00655359, 8.53854191, 8.65129722, 8.14839395, 8.73792726,\n",
       "       9.01237874, 8.35898395, 8.43208165, 8.90328791, 8.45057666,\n",
       "       8.7396857 , 9.01422786, 8.09865594, 8.8381597 , 8.71276095,\n",
       "       8.35546511, 8.78506617, 9.0248537 , 8.90328791, 8.14839395,\n",
       "       8.04379269, 8.25307166, 8.58839655, 8.56024343, 8.24989313,\n",
       "       8.71276095, 8.62880043, 8.68974151, 8.65296882, 8.65080903,\n",
       "       8.57084472, 8.54956545, 8.36083307, 8.45191187, 8.48611406,\n",
       "       8.55653287, 8.60367012, 8.51354231, 8.31764393, 8.14839395,\n",
       "       8.52416815, 8.73792726, 8.52416815, 8.41813548, 8.72523591,\n",
       "       8.00655359, 8.33747416, 7.81542027, 8.24950891, 8.67455749,\n",
       "       8.53854191, 8.69254845, 8.60367012, 8.42773267, 8.97734503,\n",
       "       8.03142214, 9.07153026, 8.7704923 , 8.92841822, 8.00655359,\n",
       "       8.02957302, 8.03142214, 8.69698643, 9.01237874, 9.01422786,\n",
       "       8.60367012, 7.9456125 , 8.94649126, 8.34103691, 8.35898395,\n",
       "       8.53854191, 8.57103146, 8.33596452, 8.93414168, 8.72393139,\n",
       "       8.45057666, 8.35546511, 8.67279905, 8.73792726, 8.40260237,\n",
       "       8.08872455, 8.44580571, 8.33747416, 8.84051694, 8.52416815,\n",
       "       8.45057666, 8.64687347, 8.85949304, 8.60367012, 8.85615066,\n",
       "       8.7062598 , 8.51704008, 9.01237874, 8.51354231, 8.44580571,\n",
       "       8.31764393, 8.54880686, 8.54880686, 8.50217095, 8.51354231,\n",
       "       8.33596452, 9.07153026, 8.53854191, 8.95042682, 8.18476492,\n",
       "       8.77191247, 8.40260237, 8.72523591, 8.73792726, 8.77191247,\n",
       "       8.72523591, 8.48867376, 8.73792726, 8.85949304, 8.37145891,\n",
       "       8.64687347, 8.8381597 , 8.73792726, 8.60367012, 8.53854191,\n",
       "       8.15105092, 8.71461006, 8.54289907, 7.81542027, 8.7811306 ,\n",
       "       7.81542027, 9.0248537 , 8.24989313, 8.24989313, 8.29703204,\n",
       "       8.53854191, 8.33596452, 8.57084472, 8.55653287, 8.76305756,\n",
       "       8.51354231, 8.77191247, 8.68974151, 8.84051694, 8.60367012,\n",
       "       8.36083307, 7.81542027, 8.27502343, 8.90616961, 8.29703204,\n",
       "       9.01422786])"
      ]
     },
     "execution_count": 165,
     "metadata": {},
     "output_type": "execute_result"
    }
   ],
   "source": [
    "preds"
   ]
  },
  {
   "cell_type": "markdown",
   "metadata": {},
   "source": [
    "#### 6.Evaluate model performance"
   ]
  },
  {
   "cell_type": "code",
   "execution_count": 170,
   "metadata": {},
   "outputs": [],
   "source": [
    "from sklearn.metrics import mean_absolute_error"
   ]
  },
  {
   "cell_type": "code",
   "execution_count": 171,
   "metadata": {},
   "outputs": [
    {
     "data": {
      "text/plain": [
       "0.18947744639174896"
      ]
     },
     "execution_count": 171,
     "metadata": {},
     "output_type": "execute_result"
    }
   ],
   "source": [
    "mean_absolute_error(y_test, preds)"
   ]
  },
  {
   "cell_type": "code",
   "execution_count": 172,
   "metadata": {},
   "outputs": [],
   "source": [
    "from sklearn.metrics import r2_score"
   ]
  },
  {
   "cell_type": "code",
   "execution_count": 173,
   "metadata": {},
   "outputs": [
    {
     "data": {
      "text/plain": [
       "0.5888744575791602"
      ]
     },
     "execution_count": 173,
     "metadata": {},
     "output_type": "execute_result"
    }
   ],
   "source": [
    "r2_score(y_test, preds)"
   ]
  },
  {
   "cell_type": "markdown",
   "metadata": {},
   "source": [
    "#### So we can predict meta-critic scores with an accuracy of approx 0.2!"
   ]
  }
 ],
 "metadata": {
  "kernelspec": {
   "display_name": "Python 3",
   "language": "python",
   "name": "python3"
  },
  "language_info": {
   "codemirror_mode": {
    "name": "ipython",
    "version": 3
   },
   "file_extension": ".py",
   "mimetype": "text/x-python",
   "name": "python",
   "nbconvert_exporter": "python",
   "pygments_lexer": "ipython3",
   "version": "3.6.5"
  }
 },
 "nbformat": 4,
 "nbformat_minor": 2
}
