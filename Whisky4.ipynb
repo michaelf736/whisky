{
 "cells": [
  {
   "cell_type": "markdown",
   "metadata": {},
   "source": [
    "## Meta-Critic Whisky Database - Exploration and Predictions"
   ]
  },
  {
   "cell_type": "markdown",
   "metadata": {},
   "source": [
    "#### Visualisation and exploration of whisky database from https://whiskyanalysis.com/index.php/database/"
   ]
  },
  {
   "cell_type": "markdown",
   "metadata": {},
   "source": [
    "This notebook uses the Scikit-learn https://scikit-learn.org/stable/index.html and Pandas https://pandas.pydata.org/ libraries in Python. The aim is to use a linear regression estimator from scikit-learn that will use Selfbuilt's whisky analysis database to learn the parameters that define the relationship between the characteristics of each whisky and its meta-critic score. It will then be possible to use this relationship to make predictions on the meta-critic scores of whiskies not in the database."
   ]
  },
  {
   "cell_type": "markdown",
   "metadata": {},
   "source": [
    "##### Procedure\n",
    "1. Import libraries needed to perform analysis and instantiate the estimator\n",
    "2. Read the data into a pandas data-frame\n",
    "3. Examine the data, look at the distributions of the variables and conduct an exploratory analysis of how whisky characteristics affect its score\n",
    "4. Organise (pre-process) the data so that it can be used in a sci-kit learn estimator\n",
    "5. Instantiate and train the linear regression model\n",
    "6. Evaluate the model's performance \n",
    "7. Use the model to make predictions on new whiskies "
   ]
  },
  {
   "cell_type": "markdown",
   "metadata": {},
   "source": [
    "#### 1. Getting started"
   ]
  },
  {
   "cell_type": "code",
   "execution_count": 1,
   "metadata": {},
   "outputs": [],
   "source": [
    "import pandas as pd #to view and manipulate the data\n",
    "import numpy as np #for the maths!\n",
    "import matplotlib.pyplot as plt #for graphs and plots"
   ]
  },
  {
   "cell_type": "code",
   "execution_count": 2,
   "metadata": {},
   "outputs": [],
   "source": [
    "%matplotlib inline"
   ]
  },
  {
   "cell_type": "markdown",
   "metadata": {},
   "source": [
    "#### 2. Read data into pandas"
   ]
  },
  {
   "cell_type": "code",
   "execution_count": 67,
   "metadata": {},
   "outputs": [],
   "source": [
    "df = pd.read_csv('whisky_analysis.csv') # creates a pandas data-frame object from the downloaded whisky database"
   ]
  },
  {
   "cell_type": "markdown",
   "metadata": {},
   "source": [
    "#### 3. Look at the data"
   ]
  },
  {
   "cell_type": "code",
   "execution_count": 4,
   "metadata": {},
   "outputs": [
    {
     "data": {
      "text/html": [
       "<div>\n",
       "<style scoped>\n",
       "    .dataframe tbody tr th:only-of-type {\n",
       "        vertical-align: middle;\n",
       "    }\n",
       "\n",
       "    .dataframe tbody tr th {\n",
       "        vertical-align: top;\n",
       "    }\n",
       "\n",
       "    .dataframe thead th {\n",
       "        text-align: right;\n",
       "    }\n",
       "</style>\n",
       "<table border=\"1\" class=\"dataframe\">\n",
       "  <thead>\n",
       "    <tr style=\"text-align: right;\">\n",
       "      <th></th>\n",
       "      <th>Whisky</th>\n",
       "      <th>Meta Critic</th>\n",
       "      <th>STDEV</th>\n",
       "      <th>#</th>\n",
       "      <th>Cost</th>\n",
       "      <th>Class</th>\n",
       "      <th>Super Cluster</th>\n",
       "      <th>Cluster</th>\n",
       "      <th>Country</th>\n",
       "      <th>Type</th>\n",
       "    </tr>\n",
       "  </thead>\n",
       "  <tbody>\n",
       "    <tr>\n",
       "      <th>0</th>\n",
       "      <td>Ledaig 42yo Dusgadh</td>\n",
       "      <td>9.47</td>\n",
       "      <td>0.25</td>\n",
       "      <td>3</td>\n",
       "      <td>$$$$$+</td>\n",
       "      <td>SingleMalt-like</td>\n",
       "      <td>ABC</td>\n",
       "      <td>C</td>\n",
       "      <td>Scotland</td>\n",
       "      <td>Malt</td>\n",
       "    </tr>\n",
       "    <tr>\n",
       "      <th>1</th>\n",
       "      <td>Glenfarclas 40yo</td>\n",
       "      <td>9.28</td>\n",
       "      <td>0.26</td>\n",
       "      <td>15</td>\n",
       "      <td>$$$$$+</td>\n",
       "      <td>SingleMalt-like</td>\n",
       "      <td>ABC</td>\n",
       "      <td>A</td>\n",
       "      <td>Scotland</td>\n",
       "      <td>Malt</td>\n",
       "    </tr>\n",
       "    <tr>\n",
       "      <th>2</th>\n",
       "      <td>Glengoyne 25yo</td>\n",
       "      <td>9.21</td>\n",
       "      <td>0.23</td>\n",
       "      <td>14</td>\n",
       "      <td>$$$$$+</td>\n",
       "      <td>SingleMalt-like</td>\n",
       "      <td>ABC</td>\n",
       "      <td>A</td>\n",
       "      <td>Scotland</td>\n",
       "      <td>Malt</td>\n",
       "    </tr>\n",
       "    <tr>\n",
       "      <th>3</th>\n",
       "      <td>Amrut Spectrum (Batch 1)</td>\n",
       "      <td>9.19</td>\n",
       "      <td>0.24</td>\n",
       "      <td>10</td>\n",
       "      <td>$$$$$</td>\n",
       "      <td>SingleMalt-like</td>\n",
       "      <td>ABC</td>\n",
       "      <td>C</td>\n",
       "      <td>India</td>\n",
       "      <td>Malt</td>\n",
       "    </tr>\n",
       "    <tr>\n",
       "      <th>4</th>\n",
       "      <td>Highland Park 25yo</td>\n",
       "      <td>9.18</td>\n",
       "      <td>0.17</td>\n",
       "      <td>14</td>\n",
       "      <td>$$$$$+</td>\n",
       "      <td>SingleMalt-like</td>\n",
       "      <td>ABC</td>\n",
       "      <td>C</td>\n",
       "      <td>Scotland</td>\n",
       "      <td>Malt</td>\n",
       "    </tr>\n",
       "  </tbody>\n",
       "</table>\n",
       "</div>"
      ],
      "text/plain": [
       "                     Whisky  Meta Critic  STDEV   #    Cost            Class  \\\n",
       "0       Ledaig 42yo Dusgadh         9.47   0.25   3  $$$$$+  SingleMalt-like   \n",
       "1          Glenfarclas 40yo         9.28   0.26  15  $$$$$+  SingleMalt-like   \n",
       "2            Glengoyne 25yo         9.21   0.23  14  $$$$$+  SingleMalt-like   \n",
       "3  Amrut Spectrum (Batch 1)         9.19   0.24  10   $$$$$  SingleMalt-like   \n",
       "4        Highland Park 25yo         9.18   0.17  14  $$$$$+  SingleMalt-like   \n",
       "\n",
       "  Super Cluster Cluster   Country  Type  \n",
       "0           ABC       C  Scotland  Malt  \n",
       "1           ABC       A  Scotland  Malt  \n",
       "2           ABC       A  Scotland  Malt  \n",
       "3           ABC       C     India  Malt  \n",
       "4           ABC       C  Scotland  Malt  "
      ]
     },
     "execution_count": 4,
     "metadata": {},
     "output_type": "execute_result"
    }
   ],
   "source": [
    "df.head() #first 5 rows"
   ]
  },
  {
   "cell_type": "code",
   "execution_count": 5,
   "metadata": {},
   "outputs": [],
   "source": [
    "#get rid of the spaces!\n",
    "df.rename(columns={'Meta Critic':'Score','Super Cluster':'Super_Cluster'}, inplace=True)"
   ]
  },
  {
   "cell_type": "code",
   "execution_count": 6,
   "metadata": {},
   "outputs": [],
   "source": [
    "# replace special character $ with £ \n",
    "df.Cost = df.Cost.str.replace('$','£')"
   ]
  },
  {
   "cell_type": "code",
   "execution_count": 7,
   "metadata": {},
   "outputs": [
    {
     "data": {
      "text/html": [
       "<div>\n",
       "<style scoped>\n",
       "    .dataframe tbody tr th:only-of-type {\n",
       "        vertical-align: middle;\n",
       "    }\n",
       "\n",
       "    .dataframe tbody tr th {\n",
       "        vertical-align: top;\n",
       "    }\n",
       "\n",
       "    .dataframe thead th {\n",
       "        text-align: right;\n",
       "    }\n",
       "</style>\n",
       "<table border=\"1\" class=\"dataframe\">\n",
       "  <thead>\n",
       "    <tr style=\"text-align: right;\">\n",
       "      <th></th>\n",
       "      <th>Whisky</th>\n",
       "      <th>Score</th>\n",
       "      <th>STDEV</th>\n",
       "      <th>#</th>\n",
       "      <th>Cost</th>\n",
       "      <th>Class</th>\n",
       "      <th>Super_Cluster</th>\n",
       "      <th>Cluster</th>\n",
       "      <th>Country</th>\n",
       "      <th>Type</th>\n",
       "    </tr>\n",
       "  </thead>\n",
       "  <tbody>\n",
       "    <tr>\n",
       "      <th>0</th>\n",
       "      <td>Ledaig 42yo Dusgadh</td>\n",
       "      <td>9.47</td>\n",
       "      <td>0.25</td>\n",
       "      <td>3</td>\n",
       "      <td>£££££+</td>\n",
       "      <td>SingleMalt-like</td>\n",
       "      <td>ABC</td>\n",
       "      <td>C</td>\n",
       "      <td>Scotland</td>\n",
       "      <td>Malt</td>\n",
       "    </tr>\n",
       "    <tr>\n",
       "      <th>1</th>\n",
       "      <td>Glenfarclas 40yo</td>\n",
       "      <td>9.28</td>\n",
       "      <td>0.26</td>\n",
       "      <td>15</td>\n",
       "      <td>£££££+</td>\n",
       "      <td>SingleMalt-like</td>\n",
       "      <td>ABC</td>\n",
       "      <td>A</td>\n",
       "      <td>Scotland</td>\n",
       "      <td>Malt</td>\n",
       "    </tr>\n",
       "  </tbody>\n",
       "</table>\n",
       "</div>"
      ],
      "text/plain": [
       "                Whisky  Score  STDEV   #    Cost            Class  \\\n",
       "0  Ledaig 42yo Dusgadh   9.47   0.25   3  £££££+  SingleMalt-like   \n",
       "1     Glenfarclas 40yo   9.28   0.26  15  £££££+  SingleMalt-like   \n",
       "\n",
       "  Super_Cluster Cluster   Country  Type  \n",
       "0           ABC       C  Scotland  Malt  \n",
       "1           ABC       A  Scotland  Malt  "
      ]
     },
     "execution_count": 7,
     "metadata": {},
     "output_type": "execute_result"
    }
   ],
   "source": [
    "df.head(2) #checking..."
   ]
  },
  {
   "cell_type": "code",
   "execution_count": 8,
   "metadata": {},
   "outputs": [
    {
     "data": {
      "text/html": [
       "<div>\n",
       "<style scoped>\n",
       "    .dataframe tbody tr th:only-of-type {\n",
       "        vertical-align: middle;\n",
       "    }\n",
       "\n",
       "    .dataframe tbody tr th {\n",
       "        vertical-align: top;\n",
       "    }\n",
       "\n",
       "    .dataframe thead th {\n",
       "        text-align: right;\n",
       "    }\n",
       "</style>\n",
       "<table border=\"1\" class=\"dataframe\">\n",
       "  <thead>\n",
       "    <tr style=\"text-align: right;\">\n",
       "      <th></th>\n",
       "      <th>Score</th>\n",
       "      <th>STDEV</th>\n",
       "      <th>#</th>\n",
       "    </tr>\n",
       "  </thead>\n",
       "  <tbody>\n",
       "    <tr>\n",
       "      <th>count</th>\n",
       "      <td>1454.000000</td>\n",
       "      <td>1454.000000</td>\n",
       "      <td>1454.000000</td>\n",
       "    </tr>\n",
       "    <tr>\n",
       "      <th>mean</th>\n",
       "      <td>8.540199</td>\n",
       "      <td>0.372999</td>\n",
       "      <td>10.127235</td>\n",
       "    </tr>\n",
       "    <tr>\n",
       "      <th>std</th>\n",
       "      <td>0.390641</td>\n",
       "      <td>0.182573</td>\n",
       "      <td>5.671888</td>\n",
       "    </tr>\n",
       "    <tr>\n",
       "      <th>min</th>\n",
       "      <td>6.470000</td>\n",
       "      <td>0.020000</td>\n",
       "      <td>3.000000</td>\n",
       "    </tr>\n",
       "    <tr>\n",
       "      <th>25%</th>\n",
       "      <td>8.320000</td>\n",
       "      <td>0.260000</td>\n",
       "      <td>5.000000</td>\n",
       "    </tr>\n",
       "    <tr>\n",
       "      <th>50%</th>\n",
       "      <td>8.590000</td>\n",
       "      <td>0.340000</td>\n",
       "      <td>9.000000</td>\n",
       "    </tr>\n",
       "    <tr>\n",
       "      <th>75%</th>\n",
       "      <td>8.810000</td>\n",
       "      <td>0.450000</td>\n",
       "      <td>14.000000</td>\n",
       "    </tr>\n",
       "    <tr>\n",
       "      <th>max</th>\n",
       "      <td>9.470000</td>\n",
       "      <td>1.870000</td>\n",
       "      <td>28.000000</td>\n",
       "    </tr>\n",
       "  </tbody>\n",
       "</table>\n",
       "</div>"
      ],
      "text/plain": [
       "             Score        STDEV            #\n",
       "count  1454.000000  1454.000000  1454.000000\n",
       "mean      8.540199     0.372999    10.127235\n",
       "std       0.390641     0.182573     5.671888\n",
       "min       6.470000     0.020000     3.000000\n",
       "25%       8.320000     0.260000     5.000000\n",
       "50%       8.590000     0.340000     9.000000\n",
       "75%       8.810000     0.450000    14.000000\n",
       "max       9.470000     1.870000    28.000000"
      ]
     },
     "execution_count": 8,
     "metadata": {},
     "output_type": "execute_result"
    }
   ],
   "source": [
    "df.describe() # some stats"
   ]
  },
  {
   "cell_type": "code",
   "execution_count": 9,
   "metadata": {},
   "outputs": [
    {
     "data": {
      "text/html": [
       "<div>\n",
       "<style scoped>\n",
       "    .dataframe tbody tr th:only-of-type {\n",
       "        vertical-align: middle;\n",
       "    }\n",
       "\n",
       "    .dataframe tbody tr th {\n",
       "        vertical-align: top;\n",
       "    }\n",
       "\n",
       "    .dataframe thead th {\n",
       "        text-align: right;\n",
       "    }\n",
       "</style>\n",
       "<table border=\"1\" class=\"dataframe\">\n",
       "  <thead>\n",
       "    <tr style=\"text-align: right;\">\n",
       "      <th></th>\n",
       "      <th>Whisky</th>\n",
       "      <th>Score</th>\n",
       "      <th>STDEV</th>\n",
       "      <th>#</th>\n",
       "      <th>Cost</th>\n",
       "      <th>Class</th>\n",
       "      <th>Super_Cluster</th>\n",
       "      <th>Cluster</th>\n",
       "      <th>Country</th>\n",
       "      <th>Type</th>\n",
       "    </tr>\n",
       "  </thead>\n",
       "  <tbody>\n",
       "    <tr>\n",
       "      <th>1449</th>\n",
       "      <td>Jim Beam White Label</td>\n",
       "      <td>7.66</td>\n",
       "      <td>0.48</td>\n",
       "      <td>19</td>\n",
       "      <td>£</td>\n",
       "      <td>Bourbon-like</td>\n",
       "      <td>NaN</td>\n",
       "      <td>R2</td>\n",
       "      <td>USA</td>\n",
       "      <td>Bourbon</td>\n",
       "    </tr>\n",
       "    <tr>\n",
       "      <th>1450</th>\n",
       "      <td>Rebel Yell Kentucky Bourbon</td>\n",
       "      <td>7.46</td>\n",
       "      <td>0.54</td>\n",
       "      <td>12</td>\n",
       "      <td>£</td>\n",
       "      <td>Bourbon-like</td>\n",
       "      <td>NaN</td>\n",
       "      <td>R0</td>\n",
       "      <td>USA</td>\n",
       "      <td>Bourbon</td>\n",
       "    </tr>\n",
       "    <tr>\n",
       "      <th>1451</th>\n",
       "      <td>Jim Beam Red Stag (Black Cherry)</td>\n",
       "      <td>7.43</td>\n",
       "      <td>0.95</td>\n",
       "      <td>4</td>\n",
       "      <td>£</td>\n",
       "      <td>Bourbon-like</td>\n",
       "      <td>NaN</td>\n",
       "      <td>NaN</td>\n",
       "      <td>USA</td>\n",
       "      <td>Flavoured</td>\n",
       "    </tr>\n",
       "    <tr>\n",
       "      <th>1452</th>\n",
       "      <td>Virginia Black</td>\n",
       "      <td>7.32</td>\n",
       "      <td>1.08</td>\n",
       "      <td>6</td>\n",
       "      <td>££</td>\n",
       "      <td>Bourbon-like</td>\n",
       "      <td>NaN</td>\n",
       "      <td>R2</td>\n",
       "      <td>USA</td>\n",
       "      <td>Bourbon</td>\n",
       "    </tr>\n",
       "    <tr>\n",
       "      <th>1453</th>\n",
       "      <td>Laphroaig Cairdeas 2018 Fino</td>\n",
       "      <td>9.00</td>\n",
       "      <td>0.13</td>\n",
       "      <td>4</td>\n",
       "      <td>NaN</td>\n",
       "      <td>NaN</td>\n",
       "      <td>NaN</td>\n",
       "      <td>NaN</td>\n",
       "      <td>NaN</td>\n",
       "      <td>NaN</td>\n",
       "    </tr>\n",
       "  </tbody>\n",
       "</table>\n",
       "</div>"
      ],
      "text/plain": [
       "                                Whisky  Score  STDEV   # Cost         Class  \\\n",
       "1449              Jim Beam White Label   7.66   0.48  19    £  Bourbon-like   \n",
       "1450       Rebel Yell Kentucky Bourbon   7.46   0.54  12    £  Bourbon-like   \n",
       "1451  Jim Beam Red Stag (Black Cherry)   7.43   0.95   4    £  Bourbon-like   \n",
       "1452                    Virginia Black   7.32   1.08   6   ££  Bourbon-like   \n",
       "1453      Laphroaig Cairdeas 2018 Fino   9.00   0.13   4  NaN           NaN   \n",
       "\n",
       "     Super_Cluster Cluster Country       Type  \n",
       "1449           NaN      R2     USA    Bourbon  \n",
       "1450           NaN      R0     USA    Bourbon  \n",
       "1451           NaN     NaN     USA  Flavoured  \n",
       "1452           NaN      R2     USA    Bourbon  \n",
       "1453           NaN     NaN     NaN        NaN  "
      ]
     },
     "execution_count": 9,
     "metadata": {},
     "output_type": "execute_result"
    }
   ],
   "source": [
    "df.tail() # more checks - note, there is quite a lot of absent information: 'NaN'"
   ]
  },
  {
   "cell_type": "markdown",
   "metadata": {},
   "source": [
    "#### Distributions of different whisky characteristics"
   ]
  },
  {
   "cell_type": "code",
   "execution_count": 10,
   "metadata": {},
   "outputs": [
    {
     "data": {
      "text/plain": [
       "Text(0,0.5,'Frequency')"
      ]
     },
     "execution_count": 10,
     "metadata": {},
     "output_type": "execute_result"
    },
    {
     "data": {
      "image/png": "[encoded data removed]",
      "text/plain": [
       "<Figure size 432x288 with 1 Axes>"
      ]
     },
     "metadata": {},
     "output_type": "display_data"
    }
   ],
   "source": [
    "ax = df.Type.value_counts(dropna = False).plot.bar(title = 'Whisky Types')\n",
    "ax.set_xlabel(\"Type\")\n",
    "ax.set_ylabel(\"Frequency\")"
   ]
  },
  {
   "cell_type": "code",
   "execution_count": 11,
   "metadata": {},
   "outputs": [
    {
     "data": {
      "text/plain": [
       "<matplotlib.axes._subplots.AxesSubplot at 0x23b967c98d0>"
      ]
     },
     "execution_count": 11,
     "metadata": {},
     "output_type": "execute_result"
    },
    {
     "data": {
      "image/png": "[encoded data removed]",
      "text/plain": [
       "<Figure size 432x288 with 1 Axes>"
      ]
     },
     "metadata": {},
     "output_type": "display_data"
    }
   ],
   "source": [
    "df.Country.value_counts(dropna = False).plot.bar(title = 'Country')"
   ]
  },
  {
   "cell_type": "code",
   "execution_count": 12,
   "metadata": {},
   "outputs": [
    {
     "data": {
      "text/plain": [
       "<matplotlib.axes._subplots.AxesSubplot at 0x23b96863208>"
      ]
     },
     "execution_count": 12,
     "metadata": {},
     "output_type": "execute_result"
    },
    {
     "data": {
      "image/png": "[encoded data removed]",
      "text/plain": [
       "<Figure size 432x288 with 1 Axes>"
      ]
     },
     "metadata": {},
     "output_type": "display_data"
    }
   ],
   "source": [
    "df.Cluster.value_counts(dropna = False).plot.bar(title = 'Cluster')"
   ]
  },
  {
   "cell_type": "code",
   "execution_count": 13,
   "metadata": {},
   "outputs": [
    {
     "data": {
      "text/plain": [
       "<matplotlib.axes._subplots.AxesSubplot at 0x23b968e25f8>"
      ]
     },
     "execution_count": 13,
     "metadata": {},
     "output_type": "execute_result"
    },
    {
     "data": {
      "image/png": "[encoded data removed]",
      "text/plain": [
       "<Figure size 432x288 with 1 Axes>"
      ]
     },
     "metadata": {},
     "output_type": "display_data"
    }
   ],
   "source": [
    "df['Super_Cluster'].value_counts(dropna = False).plot.bar(title = 'Super Cluster')"
   ]
  },
  {
   "cell_type": "code",
   "execution_count": 14,
   "metadata": {},
   "outputs": [
    {
     "data": {
      "text/plain": [
       "<matplotlib.axes._subplots.AxesSubplot at 0x23b968ff128>"
      ]
     },
     "execution_count": 14,
     "metadata": {},
     "output_type": "execute_result"
    },
    {
     "data": {
      "image/png": "[encoded data removed]",
      "text/plain": [
       "<Figure size 432x288 with 1 Axes>"
      ]
     },
     "metadata": {},
     "output_type": "display_data"
    }
   ],
   "source": [
    "df.Class.value_counts(dropna = False).plot.bar(title = 'Class')"
   ]
  },
  {
   "cell_type": "code",
   "execution_count": 15,
   "metadata": {},
   "outputs": [
    {
     "data": {
      "text/plain": [
       "<matplotlib.axes._subplots.AxesSubplot at 0x23b969c4240>"
      ]
     },
     "execution_count": 15,
     "metadata": {},
     "output_type": "execute_result"
    },
    {
     "data": {
      "image/png": "[encoded data removed]",
      "text/plain": [
       "<Figure size 432x288 with 1 Axes>"
      ]
     },
     "metadata": {},
     "output_type": "display_data"
    }
   ],
   "source": [
    "df.Cost.value_counts(dropna = False).plot(kind = 'bar', title = 'Cost')"
   ]
  },
  {
   "cell_type": "markdown",
   "metadata": {},
   "source": [
    "##### Histograms of Meta Critic scores"
   ]
  },
  {
   "cell_type": "code",
   "execution_count": 16,
   "metadata": {},
   "outputs": [
    {
     "data": {
      "text/plain": [
       "<matplotlib.axes._subplots.AxesSubplot at 0x23b96a22be0>"
      ]
     },
     "execution_count": 16,
     "metadata": {},
     "output_type": "execute_result"
    },
    {
     "data": {
      "image/png": "[encoded data removed]",
      "text/plain": [
       "<Figure size 432x288 with 1 Axes>"
      ]
     },
     "metadata": {},
     "output_type": "display_data"
    }
   ],
   "source": [
    "# for whole population\n",
    "df.Score.hist()"
   ]
  },
  {
   "cell_type": "markdown",
   "metadata": {},
   "source": [
    "##### Meta Critic distributions for differnet countries"
   ]
  },
  {
   "cell_type": "code",
   "execution_count": 17,
   "metadata": {},
   "outputs": [
    {
     "data": {
      "text/plain": [
       "<matplotlib.axes._subplots.AxesSubplot at 0x23b96aaf780>"
      ]
     },
     "execution_count": 17,
     "metadata": {},
     "output_type": "execute_result"
    },
    {
     "data": {
      "image/png": "[encoded data removed]",
      "text/plain": [
       "<Figure size 432x288 with 1 Axes>"
      ]
     },
     "metadata": {},
     "output_type": "display_data"
    }
   ],
   "source": [
    "#Scotland\n",
    "df.Score[df.Country == 'Scotland'].hist()"
   ]
  },
  {
   "cell_type": "code",
   "execution_count": 18,
   "metadata": {},
   "outputs": [
    {
     "data": {
      "text/plain": [
       "<matplotlib.axes._subplots.AxesSubplot at 0x23b97b1f320>"
      ]
     },
     "execution_count": 18,
     "metadata": {},
     "output_type": "execute_result"
    },
    {
     "data": {
      "image/png": "[encoded data removed]",
      "text/plain": [
       "<Figure size 432x288 with 1 Axes>"
      ]
     },
     "metadata": {},
     "output_type": "display_data"
    }
   ],
   "source": [
    "#USA\n",
    "df.Score[df.Country == 'USA'].hist()"
   ]
  },
  {
   "cell_type": "markdown",
   "metadata": {},
   "source": [
    "##### We can see that the score distribution for Scottish whiskies shows a predominance of higher scores compared with American ones."
   ]
  },
  {
   "cell_type": "markdown",
   "metadata": {},
   "source": [
    "#### Mean Meta Critic Scores by different characteristics"
   ]
  },
  {
   "cell_type": "code",
   "execution_count": 19,
   "metadata": {},
   "outputs": [],
   "source": [
    "# Change figsize\n",
    "fig_size = plt.rcParams[\"figure.figsize\"]\n",
    "#print (\"Current size:\", fig_size)\n",
    "fig_size[0] = 6\n",
    "fig_size[1] = 4"
   ]
  },
  {
   "cell_type": "code",
   "execution_count": 20,
   "metadata": {},
   "outputs": [
    {
     "data": {
      "image/png": "[encoded data removed]",
      "text/plain": [
       "<Figure size 1440x720 with 6 Axes>"
      ]
     },
     "metadata": {},
     "output_type": "display_data"
    }
   ],
   "source": [
    "cols = ['Country','Type','Cluster','Super_Cluster','Class','Cost']\n",
    "for i, value in enumerate(cols):\n",
    "    plt.tight_layout()\n",
    "    plt.subplot(2,3, i+1)\n",
    "    df.groupby(value)['Score'].mean().plot.bar(sharey = 'row', figsize = (20,10)).set_ylabel('Mean Score')"
   ]
  },
  {
   "cell_type": "markdown",
   "metadata": {},
   "source": [
    "#### Comments so far:\n",
    "- 1453 Whiskies!\n",
    "- Scottish malts significantly the most common\n",
    "- Single malts by far the most common type\n",
    "\n",
    "##### What indicators are there about predicting the score?\n",
    "- French and Swiss whiskies have a lower mean!\n",
    "- Flavoured whiskies have the lowest mean score\n",
    "- Score increases with price, but not by much!"
   ]
  },
  {
   "cell_type": "markdown",
   "metadata": {},
   "source": [
    "#### 4. Data preprocessing to run a linear regression model "
   ]
  },
  {
   "cell_type": "code",
   "execution_count": 21,
   "metadata": {},
   "outputs": [],
   "source": [
    "# Drop the 'Whisky', 'STDEV' and # columns as these aren't a factor in determining the score\n",
    "df = df.drop(['Whisky', 'STDEV', '#'], axis=1)"
   ]
  },
  {
   "cell_type": "code",
   "execution_count": 22,
   "metadata": {},
   "outputs": [
    {
     "data": {
      "text/html": [
       "<div>\n",
       "<style scoped>\n",
       "    .dataframe tbody tr th:only-of-type {\n",
       "        vertical-align: middle;\n",
       "    }\n",
       "\n",
       "    .dataframe tbody tr th {\n",
       "        vertical-align: top;\n",
       "    }\n",
       "\n",
       "    .dataframe thead th {\n",
       "        text-align: right;\n",
       "    }\n",
       "</style>\n",
       "<table border=\"1\" class=\"dataframe\">\n",
       "  <thead>\n",
       "    <tr style=\"text-align: right;\">\n",
       "      <th></th>\n",
       "      <th>Score</th>\n",
       "      <th>Cost</th>\n",
       "      <th>Class</th>\n",
       "      <th>Super_Cluster</th>\n",
       "      <th>Cluster</th>\n",
       "      <th>Country</th>\n",
       "      <th>Type</th>\n",
       "    </tr>\n",
       "  </thead>\n",
       "  <tbody>\n",
       "    <tr>\n",
       "      <th>0</th>\n",
       "      <td>9.47</td>\n",
       "      <td>£££££+</td>\n",
       "      <td>SingleMalt-like</td>\n",
       "      <td>ABC</td>\n",
       "      <td>C</td>\n",
       "      <td>Scotland</td>\n",
       "      <td>Malt</td>\n",
       "    </tr>\n",
       "    <tr>\n",
       "      <th>1</th>\n",
       "      <td>9.28</td>\n",
       "      <td>£££££+</td>\n",
       "      <td>SingleMalt-like</td>\n",
       "      <td>ABC</td>\n",
       "      <td>A</td>\n",
       "      <td>Scotland</td>\n",
       "      <td>Malt</td>\n",
       "    </tr>\n",
       "    <tr>\n",
       "      <th>2</th>\n",
       "      <td>9.21</td>\n",
       "      <td>£££££+</td>\n",
       "      <td>SingleMalt-like</td>\n",
       "      <td>ABC</td>\n",
       "      <td>A</td>\n",
       "      <td>Scotland</td>\n",
       "      <td>Malt</td>\n",
       "    </tr>\n",
       "    <tr>\n",
       "      <th>3</th>\n",
       "      <td>9.19</td>\n",
       "      <td>£££££</td>\n",
       "      <td>SingleMalt-like</td>\n",
       "      <td>ABC</td>\n",
       "      <td>C</td>\n",
       "      <td>India</td>\n",
       "      <td>Malt</td>\n",
       "    </tr>\n",
       "    <tr>\n",
       "      <th>4</th>\n",
       "      <td>9.18</td>\n",
       "      <td>£££££+</td>\n",
       "      <td>SingleMalt-like</td>\n",
       "      <td>ABC</td>\n",
       "      <td>C</td>\n",
       "      <td>Scotland</td>\n",
       "      <td>Malt</td>\n",
       "    </tr>\n",
       "  </tbody>\n",
       "</table>\n",
       "</div>"
      ],
      "text/plain": [
       "   Score    Cost            Class Super_Cluster Cluster   Country  Type\n",
       "0   9.47  £££££+  SingleMalt-like           ABC       C  Scotland  Malt\n",
       "1   9.28  £££££+  SingleMalt-like           ABC       A  Scotland  Malt\n",
       "2   9.21  £££££+  SingleMalt-like           ABC       A  Scotland  Malt\n",
       "3   9.19   £££££  SingleMalt-like           ABC       C     India  Malt\n",
       "4   9.18  £££££+  SingleMalt-like           ABC       C  Scotland  Malt"
      ]
     },
     "execution_count": 22,
     "metadata": {},
     "output_type": "execute_result"
    }
   ],
   "source": [
    "df.head()"
   ]
  },
  {
   "cell_type": "code",
   "execution_count": 23,
   "metadata": {},
   "outputs": [],
   "source": [
    "# get rid of the missing data and replace with a blank string. \n",
    "#There are other ways to deal with missing data, for instance replace it with a column's 'most frequent value. However, we don't want to make any assumptions. \n",
    "df = df.fillna('')"
   ]
  },
  {
   "cell_type": "code",
   "execution_count": 24,
   "metadata": {},
   "outputs": [
    {
     "data": {
      "text/plain": [
       "Score            0\n",
       "Cost             0\n",
       "Class            0\n",
       "Super_Cluster    0\n",
       "Cluster          0\n",
       "Country          0\n",
       "Type             0\n",
       "dtype: int64"
      ]
     },
     "execution_count": 24,
     "metadata": {},
     "output_type": "execute_result"
    }
   ],
   "source": [
    "#Check that NaN values have gone\n",
    "df.isnull().sum() "
   ]
  },
  {
   "cell_type": "markdown",
   "metadata": {},
   "source": [
    "##### Now to organise the data into a format that can be used with a scikit-learn estimator..."
   ]
  },
  {
   "cell_type": "markdown",
   "metadata": {},
   "source": [
    "We need to seperate the data into a feature matrix, X (the inputs) and a target vector, y (the outputs)"
   ]
  },
  {
   "cell_type": "code",
   "execution_count": 25,
   "metadata": {},
   "outputs": [],
   "source": [
    "# the pop method will do the trick...\n",
    "y = df.pop('Score')"
   ]
  },
  {
   "cell_type": "code",
   "execution_count": 26,
   "metadata": {},
   "outputs": [],
   "source": [
    "X = df"
   ]
  },
  {
   "cell_type": "code",
   "execution_count": 27,
   "metadata": {},
   "outputs": [
    {
     "data": {
      "text/plain": [
       "(1454,)"
      ]
     },
     "execution_count": 27,
     "metadata": {},
     "output_type": "execute_result"
    }
   ],
   "source": [
    "y.shape"
   ]
  },
  {
   "cell_type": "code",
   "execution_count": 28,
   "metadata": {},
   "outputs": [
    {
     "data": {
      "text/plain": [
       "(1454, 6)"
      ]
     },
     "execution_count": 28,
     "metadata": {},
     "output_type": "execute_result"
    }
   ],
   "source": [
    "X.shape"
   ]
  },
  {
   "cell_type": "markdown",
   "metadata": {},
   "source": [
    "Much of our data is categorical. We need to convert this to numerical data that our estimator can make calculations on. We use [One Hot Encoding](https://machinelearningmastery.com/why-one-hot-encode-data-in-machine-learning/) to convert the categorical variables to 1s and 0s."
   ]
  },
  {
   "cell_type": "code",
   "execution_count": 29,
   "metadata": {},
   "outputs": [],
   "source": [
    "#sci-kit learn has its own encoder...\n",
    "from sklearn.preprocessing import OneHotEncoder"
   ]
  },
  {
   "cell_type": "code",
   "execution_count": 30,
   "metadata": {},
   "outputs": [],
   "source": [
    "enc = OneHotEncoder()"
   ]
  },
  {
   "cell_type": "code",
   "execution_count": 31,
   "metadata": {},
   "outputs": [],
   "source": [
    "X_encoded = enc.fit_transform(X).toarray() #X_encoded is now in encoded form"
   ]
  },
  {
   "cell_type": "code",
   "execution_count": 32,
   "metadata": {},
   "outputs": [
    {
     "data": {
      "text/plain": [
       "(1454, 62)"
      ]
     },
     "execution_count": 32,
     "metadata": {},
     "output_type": "execute_result"
    }
   ],
   "source": [
    "X_encoded.shape "
   ]
  },
  {
   "cell_type": "markdown",
   "metadata": {},
   "source": [
    "#### 5. Fit models and make predictions"
   ]
  },
  {
   "cell_type": "code",
   "execution_count": 33,
   "metadata": {},
   "outputs": [],
   "source": [
    "# To evaluate our model to see how it will perform against unseen data, we split the data into 'test' and 'train' subsets. \n",
    "# The training data will be used by the model to learn the parameters. The testing data will be kept seperately to be used as an 'unseen' dataset to evaluate the model.\n",
    "from sklearn.model_selection import train_test_split"
   ]
  },
  {
   "cell_type": "code",
   "execution_count": 34,
   "metadata": {},
   "outputs": [],
   "source": [
    "X_train, X_test, y_train, y_test = train_test_split(X_encoded, y, test_size = 0.2, random_state = 1) # random state for reproducibility"
   ]
  },
  {
   "cell_type": "code",
   "execution_count": 35,
   "metadata": {},
   "outputs": [],
   "source": [
    "# the next 3 cells are commented out. An initial trial with the LinearRegression model produced a very large variance and so this was abandoned in favour of the Ridge model\n",
    "#from sklearn.linear_model import LinearRegression"
   ]
  },
  {
   "cell_type": "code",
   "execution_count": 36,
   "metadata": {},
   "outputs": [],
   "source": [
    "#reg = LinearRegression().fit(X_train, y_train)"
   ]
  },
  {
   "cell_type": "code",
   "execution_count": 37,
   "metadata": {},
   "outputs": [],
   "source": [
    "#preds = reg.predict(X_test)"
   ]
  },
  {
   "cell_type": "code",
   "execution_count": 38,
   "metadata": {},
   "outputs": [],
   "source": [
    "# use a linear regression model that utilises regularisation\n",
    "# RidgeCV gives opportunity to try different regularisation parameters\n",
    "\n",
    "from sklearn.linear_model import RidgeCV"
   ]
  },
  {
   "cell_type": "code",
   "execution_count": 39,
   "metadata": {},
   "outputs": [],
   "source": [
    "#generate different reg parameters\n",
    "alphas = np.arange(1, 6, 0.01)"
   ]
  },
  {
   "cell_type": "code",
   "execution_count": 40,
   "metadata": {},
   "outputs": [],
   "source": [
    "rid = RidgeCV(alphas = alphas).fit(X_train, y_train) #the fit method learns the parameters for our model"
   ]
  },
  {
   "cell_type": "code",
   "execution_count": 43,
   "metadata": {},
   "outputs": [
    {
     "data": {
      "text/plain": [
       "2.0100000000000007"
      ]
     },
     "execution_count": 43,
     "metadata": {},
     "output_type": "execute_result"
    }
   ],
   "source": [
    "#best reg parameter\n",
    "rid.alpha_"
   ]
  },
  {
   "cell_type": "code",
   "execution_count": 44,
   "metadata": {},
   "outputs": [],
   "source": [
    "# make predictions on the test data\n",
    "preds = rid.predict(X_test) "
   ]
  },
  {
   "cell_type": "code",
   "execution_count": 45,
   "metadata": {},
   "outputs": [
    {
     "data": {
      "text/plain": [
       "array([8.03132583, 8.55178916, 7.78662943, 9.04296748, 8.60844448,\n",
       "       8.31999471, 9.00499444, 9.01475518, 9.03125855, 8.77137996,\n",
       "       8.52079879, 7.78662943, 8.52079879, 8.30709275, 8.34425249,\n",
       "       8.37503771, 8.75293122, 8.85631883, 8.64640734, 8.74182674,\n",
       "       8.66528554, 8.75293122, 8.86154013, 8.64640734, 8.50458416,\n",
       "       7.99108281, 8.68809244, 8.37945578, 8.45205922, 8.24034675,\n",
       "       8.08824393, 7.78662943, 8.49350139, 8.56528044, 7.78662943,\n",
       "       8.11554133, 8.6008284 , 8.30709275, 8.08396149, 8.74182674,\n",
       "       7.56381173, 7.99108281, 8.52684404, 9.11957623, 8.32803785,\n",
       "       8.75293122, 8.04481711, 8.5648069 , 8.51154614, 8.91136757,\n",
       "       8.27591641, 8.56349809, 8.50458416, 8.08824393, 8.70207135,\n",
       "       8.12937866, 8.75293122, 8.53528578, 8.6353304 , 8.52079879,\n",
       "       8.46986103, 7.99108281, 8.60844448, 8.46986103, 9.03125855,\n",
       "       8.5648069 , 8.53528578, 8.34425249, 8.32803785, 8.48363906,\n",
       "       8.64640734, 8.88453114, 8.48363906, 8.71183209, 8.55158402,\n",
       "       8.60844448, 8.24034675, 8.51154614, 9.00499444, 8.72563382,\n",
       "       8.87282221, 8.88453114, 8.60844448, 8.32803785, 8.82372188,\n",
       "       8.74182674, 8.52079879, 8.55178916, 7.99108281, 8.91840059,\n",
       "       8.60844448, 8.29366015, 8.76755644, 8.75293122, 8.45634166,\n",
       "       8.50458416, 8.08396149, 8.52684404, 7.75504959, 8.68032778,\n",
       "       8.75293122, 8.64640734, 7.99108281, 8.50458416, 8.15270106,\n",
       "       8.71183209, 8.34425249, 9.04474983, 8.31999471, 8.64640734,\n",
       "       8.5836851 , 9.04296748, 8.27164904, 8.59654597, 8.32803785,\n",
       "       8.56349809, 8.71183209, 8.64640734, 8.31999471, 8.62380593,\n",
       "       8.37945578, 8.64640734, 8.60844448, 8.88453114, 8.68626816,\n",
       "       8.27384082, 8.11554133, 8.64640734, 8.71183209, 7.99108281,\n",
       "       8.30709275, 8.52552505, 8.71183209, 8.37789495, 8.76829267,\n",
       "       8.27830961, 8.64193855, 8.78656215, 8.64640734, 8.79089408,\n",
       "       8.88453114, 8.8465581 , 8.68809244, 8.85631883, 8.8029307 ,\n",
       "       8.2557082 , 8.60844448, 9.03125855, 7.78662943, 8.37945578,\n",
       "       8.66528554, 8.09141048, 8.28013506, 8.48199292, 8.45634166,\n",
       "       8.24536653, 8.49747639, 8.43871163, 8.88453114, 8.79089408,\n",
       "       8.04481711, 8.77137996, 8.64640734, 8.71183209, 8.64640734,\n",
       "       8.64640734, 8.43189817, 8.45634166, 8.48363906, 8.36023773,\n",
       "       8.50458416, 8.59654597, 8.60844448, 8.41530297, 8.7400444 ,\n",
       "       9.04296748, 8.32803785, 8.60844448, 8.78190366, 8.69607076,\n",
       "       8.80750725, 8.37372901, 8.5738039 , 8.10918903, 8.72833546,\n",
       "       8.41103561, 8.24034675, 8.46986103, 8.44725962, 8.32803785,\n",
       "       8.60844448, 8.69607076, 8.27551292, 8.0147126 , 8.70207135,\n",
       "       8.37503771, 8.19391248, 8.31695509, 8.55178916, 8.82372188,\n",
       "       8.90551376, 8.32803785, 8.71183209, 8.51154614, 8.55158402,\n",
       "       8.00506172, 8.51154614, 7.99108281, 8.60844448, 8.35106594,\n",
       "       8.7400444 , 8.71183209, 8.13648643, 8.11554133, 8.44819535,\n",
       "       8.76755644, 8.34425249, 8.52079879, 8.45634166, 8.55178916,\n",
       "       7.78662943, 8.40328223, 8.88453114, 8.62380593, 8.69607076,\n",
       "       8.67133079, 8.24034675, 8.79089408, 8.30709275, 7.99108281,\n",
       "       8.79089408, 8.60844448, 8.34425249, 8.466344  , 8.49350722,\n",
       "       8.91136757, 8.6281258 , 8.71183209, 8.40460077, 8.64640734,\n",
       "       8.49747639, 8.60844448, 7.99108281, 8.50972185, 8.41137532,\n",
       "       8.66528554, 8.31999471, 8.34425249, 8.83257919, 8.7400444 ,\n",
       "       8.85631883, 8.32093009, 8.60844448, 8.40328223, 8.71183209,\n",
       "       8.2557082 , 9.01475518, 8.05666409, 8.31999471, 8.79089408,\n",
       "       7.99108281, 8.45205922, 8.27551292, 8.00506172, 8.51154614,\n",
       "       8.31999471, 8.11554133, 8.59654597, 8.15270106, 7.78662943,\n",
       "       8.75293122, 7.99108281, 8.71183209, 8.7400444 , 8.51154614,\n",
       "       8.34596294, 8.88453114, 8.64640734, 8.52684404, 8.75293122,\n",
       "       8.65694095, 8.77391384, 8.52079879, 8.7349038 , 8.9158667 ,\n",
       "       8.7400444 , 8.75293122, 8.00506172, 8.60844448, 8.79089408,\n",
       "       7.99108281])"
      ]
     },
     "execution_count": 45,
     "metadata": {},
     "output_type": "execute_result"
    }
   ],
   "source": [
    "# sanity check - do they look reasonable?\n",
    "preds"
   ]
  },
  {
   "cell_type": "markdown",
   "metadata": {},
   "source": [
    "#### 6.Evaluate model performance"
   ]
  },
  {
   "cell_type": "code",
   "execution_count": 46,
   "metadata": {},
   "outputs": [],
   "source": [
    "from sklearn.metrics import mean_absolute_error"
   ]
  },
  {
   "cell_type": "code",
   "execution_count": 47,
   "metadata": {},
   "outputs": [
    {
     "data": {
      "text/plain": [
       "0.19083896840125109"
      ]
     },
     "execution_count": 47,
     "metadata": {},
     "output_type": "execute_result"
    }
   ],
   "source": [
    "mean_absolute_error(y_test, preds)"
   ]
  },
  {
   "cell_type": "code",
   "execution_count": 48,
   "metadata": {},
   "outputs": [],
   "source": [
    "from sklearn.metrics import r2_score"
   ]
  },
  {
   "cell_type": "code",
   "execution_count": 49,
   "metadata": {},
   "outputs": [
    {
     "data": {
      "text/plain": [
       "0.6086347465754794"
      ]
     },
     "execution_count": 49,
     "metadata": {},
     "output_type": "execute_result"
    }
   ],
   "source": [
    "r2_score(y_test, preds)"
   ]
  },
  {
   "cell_type": "markdown",
   "metadata": {},
   "source": [
    "##### So we can predict meta-critic scores with an accuracy of approx 0.2!"
   ]
  },
  {
   "cell_type": "markdown",
   "metadata": {},
   "source": [
    "#### 7. Make predictions for new whiskies!"
   ]
  },
  {
   "cell_type": "code",
   "execution_count": 50,
   "metadata": {},
   "outputs": [],
   "source": [
    "#Let's try making a prediction on a fictitious whisky!\n",
    "# Need fields ['Cost', 'Class', 'Super_Cluster','Cluster', 'Country', 'Type']\n",
    "cols = ['Cost', 'Class', 'Super_Cluster','Cluster', 'Country', 'Type']"
   ]
  },
  {
   "cell_type": "code",
   "execution_count": 59,
   "metadata": {},
   "outputs": [],
   "source": [
    "our_whisky = ['£££££+', 'SingleMalt-like', 'ABC', 'B', 'India', 'Malt']"
   ]
  },
  {
   "cell_type": "code",
   "execution_count": 60,
   "metadata": {},
   "outputs": [],
   "source": [
    "our_df = pd.DataFrame([our_whisky], columns = cols)"
   ]
  },
  {
   "cell_type": "code",
   "execution_count": 61,
   "metadata": {},
   "outputs": [
    {
     "data": {
      "text/html": [
       "<div>\n",
       "<style scoped>\n",
       "    .dataframe tbody tr th:only-of-type {\n",
       "        vertical-align: middle;\n",
       "    }\n",
       "\n",
       "    .dataframe tbody tr th {\n",
       "        vertical-align: top;\n",
       "    }\n",
       "\n",
       "    .dataframe thead th {\n",
       "        text-align: right;\n",
       "    }\n",
       "</style>\n",
       "<table border=\"1\" class=\"dataframe\">\n",
       "  <thead>\n",
       "    <tr style=\"text-align: right;\">\n",
       "      <th></th>\n",
       "      <th>Cost</th>\n",
       "      <th>Class</th>\n",
       "      <th>Super_Cluster</th>\n",
       "      <th>Cluster</th>\n",
       "      <th>Country</th>\n",
       "      <th>Type</th>\n",
       "    </tr>\n",
       "  </thead>\n",
       "  <tbody>\n",
       "    <tr>\n",
       "      <th>0</th>\n",
       "      <td>£££££+</td>\n",
       "      <td>SingleMalt-like</td>\n",
       "      <td>ABC</td>\n",
       "      <td>B</td>\n",
       "      <td>India</td>\n",
       "      <td>Malt</td>\n",
       "    </tr>\n",
       "  </tbody>\n",
       "</table>\n",
       "</div>"
      ],
      "text/plain": [
       "     Cost            Class Super_Cluster Cluster Country  Type\n",
       "0  £££££+  SingleMalt-like           ABC       B   India  Malt"
      ]
     },
     "execution_count": 61,
     "metadata": {},
     "output_type": "execute_result"
    }
   ],
   "source": [
    "our_df"
   ]
  },
  {
   "cell_type": "code",
   "execution_count": 62,
   "metadata": {},
   "outputs": [
    {
     "data": {
      "text/plain": [
       "(1, 6)"
      ]
     },
     "execution_count": 62,
     "metadata": {},
     "output_type": "execute_result"
    }
   ],
   "source": [
    "our_df.shape"
   ]
  },
  {
   "cell_type": "code",
   "execution_count": 63,
   "metadata": {},
   "outputs": [],
   "source": [
    "#vecotrize our_df\n",
    "our_df_encoded = enc.transform(our_df).toarray()"
   ]
  },
  {
   "cell_type": "code",
   "execution_count": 64,
   "metadata": {},
   "outputs": [
    {
     "data": {
      "text/plain": [
       "(1, 62)"
      ]
     },
     "execution_count": 64,
     "metadata": {},
     "output_type": "execute_result"
    }
   ],
   "source": [
    "our_df_encoded.shape"
   ]
  },
  {
   "cell_type": "code",
   "execution_count": 65,
   "metadata": {},
   "outputs": [],
   "source": [
    "our_prediction = rid.predict(our_df_encoded)"
   ]
  },
  {
   "cell_type": "code",
   "execution_count": 66,
   "metadata": {},
   "outputs": [
    {
     "data": {
      "text/plain": [
       "9.019976473366954"
      ]
     },
     "execution_count": 66,
     "metadata": {},
     "output_type": "execute_result"
    }
   ],
   "source": [
    "our_prediction[0]"
   ]
  },
  {
   "cell_type": "markdown",
   "metadata": {},
   "source": [
    "##### So, an expensive single malt from India ranks in the top 25% of all whiskies!"
   ]
  },
  {
   "cell_type": "markdown",
   "metadata": {},
   "source": [
    "#### 8. Conclusion"
   ]
  },
  {
   "cell_type": "markdown",
   "metadata": {},
   "source": [
    "##### We have trained a linear regression estimator, RidgeCV from scikit-learn, to predict meta-critic scores from whisky characteristics. Mean error is ~0.2 and r^2 value is ~0.6"
   ]
  },
  {
   "cell_type": "markdown",
   "metadata": {},
   "source": [
    "##### Further possible exploration:\n",
    "- Currently price is treated as a categorical variable. The model infers no relationship between the different prices - only that they are different. Using [label encoding](https://scikit-learn.org/stable/modules/generated/sklearn.preprocessing.LabelEncoder.html) rather than one hot encoding on the price feature should be explored. It may also be possible to obtain better data on the prices.\n",
    "- The way that NaN values are treated should be explored. For instance, whisky 1453, Laphroaig Cairdeas 2018 Fino, contains all NaNs but has a very high score. The presence of such examples will cause the estimator to reward the presence of NaN values. It may be better to delete whiskies that contain a high number of NaNs\n",
    "\n"
   ]
  },
  {
   "cell_type": "markdown",
   "metadata": {},
   "source": [
    "Workbook and code written by Michael Farrell, Cambridge, UK. Github: https://github.com/michaelf736 LinkedIn: www.linkedin.com/in/michael-farrell-5b8b401 Comments, queries and general greetings very welcome."
   ]
  }
 ],
 "metadata": {
  "kernelspec": {
   "display_name": "Python 3",
   "language": "python",
   "name": "python3"
  },
  "language_info": {
   "codemirror_mode": {
    "name": "ipython",
    "version": 3
   },
   "file_extension": ".py",
   "mimetype": "text/x-python",
   "name": "python",
   "nbconvert_exporter": "python",
   "pygments_lexer": "ipython3",
   "version": "3.6.5"
  }
 },
 "nbformat": 4,
 "nbformat_minor": 2
}
